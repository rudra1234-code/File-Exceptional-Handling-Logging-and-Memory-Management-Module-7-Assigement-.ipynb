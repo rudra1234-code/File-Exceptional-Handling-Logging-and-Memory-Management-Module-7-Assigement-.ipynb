{
  "nbformat": 4,
  "nbformat_minor": 0,
  "metadata": {
    "colab": {
      "provenance": []
    },
    "kernelspec": {
      "name": "python3",
      "display_name": "Python 3"
    },
    "language_info": {
      "name": "python"
    }
  },
  "cells": [
    {
      "cell_type": "markdown",
      "source": [
        "    1.What is the difference between interpreted and compiled languages?\n",
        "   \n",
        "    The difference between interpreted and compiled languages lies in how their code is executed and processed by a computer. Here's a breakdown:\n",
        "\n",
        "    Interpreted Languages\n",
        "   \n",
        "    Execution: An interpreter directly reads and executes the source code line by line or statement by statement.\n",
        "    Performance: Generally slower than compiled languages since each instruction is translated and executed on the fly.\n",
        "    Portability: Platform-independent, as the interpreter adapts to the host system.\n",
        "   \n",
        "    Error Handling: Errors are detected at runtime, which can make debugging easier but may cause failures mid-execution.\n",
        "    Examples: Python, JavaScript, Ruby, PHP.\n",
        "\n",
        "    Compiled Languages\n",
        "    \n",
        "    Execution: A compiler translates the source code into machine code (binary code) before execution. The compiled program is then executed by the operating system or a processor.\n",
        "    Performance: Faster, since the program is pre-compiled into machine code optimized for the target platform.\n",
        "    \n",
        "    Portability: Often platform-dependent unless recompiled for each platform.\n",
        "    Error Handling: Errors are detected during the compilation stage, preventing the program from running if issues exist.\n",
        "    Examples: C, C++, Rust, Go."
      ],
      "metadata": {
        "id": "yLeudYAsiq2t"
      }
    },
    {
      "cell_type": "markdown",
      "source": [
        "    2.What is exception handling in Python?\n",
        "    Exception handling in Python is a mechanism that allows you to gracefully manage errors or unexpected situations during the execution of a program. Instead of crashing when an error occurs, Python provides a structured way to \"catch\" and handle these errors, so the program can either recover or terminate more gracefully."
      ],
      "metadata": {
        "id": "BQNzzVYHj1nc"
      }
    },
    {
      "cell_type": "markdown",
      "source": [
        "    3.What is the purpose of the finally block in exception handling?\n",
        "    The finally block in exception handling is used to define a section of code that will always execute, regardless of whether an exception was raised or handled in the try block. Its primary purpose is to ensure that cleanup operations or essential steps are performed no matter what happens in the preceding code."
      ],
      "metadata": {
        "id": "0Y2rpJLxkix_"
      }
    },
    {
      "cell_type": "markdown",
      "source": [
        "    4.What is logging in Python?\n",
        "    Logging in Python refers to the process of recording messages from your program while it is running. It is a way to track events, debug issues, and monitor the behavior of applications. Python provides a built-in module called logging to facilitate this."
      ],
      "metadata": {
        "id": "A0nNwILymMDq"
      }
    },
    {
      "cell_type": "markdown",
      "source": [
        "    5.What is the significance of the __del__ method in Python?\n",
        "    The __del__ method in Python, also known as the destructor, is a special method called when an object is about to be destroyed. It is used to define cleanup behavior for the object before it is removed from memory by the garbage collector."
      ],
      "metadata": {
        "id": "CJZWVNyEmiau"
      }
    },
    {
      "cell_type": "markdown",
      "source": [
        "    6.What is the difference between import and from ... import in Python?\n",
        "    In Python, the difference between import and from ... import lies in how the imported module or objects are accessed in your code. Here's a breakdown:\n",
        "    import statement\n",
        "    This imports the entire module and requires you to reference it by its name when accessing its contents.\n",
        "\n",
        "    Syntax:\n",
        "\n",
        "    import module_name\n",
        "    \n",
        "    Example:\n",
        "      "
      ],
      "metadata": {
        "id": "REc_RBLcm5jw"
      }
    },
    {
      "cell_type": "code",
      "source": [
        "import math\n",
        "print(math.sqrt(16))\n"
      ],
      "metadata": {
        "colab": {
          "base_uri": "https://localhost:8080/"
        },
        "id": "P3dVZeMWoYcy",
        "outputId": "c29c1770-197c-4796-a9ff-257f180203eb"
      },
      "execution_count": null,
      "outputs": [
        {
          "output_type": "stream",
          "name": "stdout",
          "text": [
            "4.0\n"
          ]
        }
      ]
    },
    {
      "cell_type": "markdown",
      "source": [
        "    7.How can you handle multiple exceptions in Python?\n",
        "    In Python, you can handle multiple exceptions in several ways depending on the situation. Here are some common approaches:\n",
        "    1.Using a Tuple in a Single except Block\n",
        "    You can specify multiple exceptions in a single except block by passing them as a tuple.\n",
        "\n",
        "\n"
      ],
      "metadata": {
        "id": "tkEZIeuWopTb"
      }
    },
    {
      "cell_type": "code",
      "source": [
        "try:\n",
        "    # Code that might raise an exception\n",
        "    num = int(input(\"Enter a number: \"))\n",
        "    result = 10 / num\n",
        "except (ValueError, ZeroDivisionError) as e:\n",
        "    print(f\"An error occurred: {e}\")\n"
      ],
      "metadata": {
        "colab": {
          "base_uri": "https://localhost:8080/"
        },
        "id": "e1CjjhPnoh01",
        "outputId": "f8c99816-ad75-4bc6-f24c-e4a6ff57889f"
      },
      "execution_count": null,
      "outputs": [
        {
          "output_type": "stream",
          "name": "stdout",
          "text": [
            "Enter a number: 0\n",
            "An error occurred: division by zero\n"
          ]
        }
      ]
    },
    {
      "cell_type": "markdown",
      "source": [
        "    2.Using Multiple except Blocks\n",
        "    You can use separate except blocks for each exception type. This allows for specific handling of each exception."
      ],
      "metadata": {
        "id": "C30vorxsuBEu"
      }
    },
    {
      "cell_type": "code",
      "source": [
        "try:\n",
        "    num = int(input(\"Enter a number: \"))\n",
        "    result = 10 / num\n",
        "except ValueError:\n",
        "    print(\"You must enter a valid number.\")\n",
        "except ZeroDivisionError:\n",
        "    print(\"Division by zero is not allowed.\")\n"
      ],
      "metadata": {
        "colab": {
          "base_uri": "https://localhost:8080/"
        },
        "id": "UM5kIa4buT2-",
        "outputId": "dc2440c1-541c-45fc-8963-76f6ae3e4251"
      },
      "execution_count": null,
      "outputs": [
        {
          "output_type": "stream",
          "name": "stdout",
          "text": [
            "Enter a number: 0\n",
            "Division by zero is not allowed.\n"
          ]
        }
      ]
    },
    {
      "cell_type": "markdown",
      "source": [
        "    3.Using a Generic Exception\n",
        "    You can catch all exceptions using the base Exception class. However, this approach is less specific and should be used carefully."
      ],
      "metadata": {
        "id": "5ntyHLafupk3"
      }
    },
    {
      "cell_type": "code",
      "source": [
        "try:\n",
        "    num = int(input(\"Enter a number: \"))\n",
        "    result = 10 / num\n",
        "except Exception as e:\n",
        "    print(f\"An unexpected error occurred: {e}\")\n"
      ],
      "metadata": {
        "colab": {
          "base_uri": "https://localhost:8080/"
        },
        "id": "Y9dTLf9Kuvmh",
        "outputId": "4da11f2a-39b1-4b04-e8a0-4980edc7f45f"
      },
      "execution_count": null,
      "outputs": [
        {
          "output_type": "stream",
          "name": "stdout",
          "text": [
            "Enter a number: 0\n",
            "An unexpected error occurred: division by zero\n"
          ]
        }
      ]
    },
    {
      "cell_type": "markdown",
      "source": [
        "    4.Combining Specific and General Exceptions\n",
        "    You can combine specific exception handling with a general catch-all block to handle unexpected exceptions."
      ],
      "metadata": {
        "id": "zAx75_d_vTNu"
      }
    },
    {
      "cell_type": "code",
      "source": [
        "try:\n",
        "    num = int(input(\"Enter a number: \"))\n",
        "    result = 10 / num\n",
        "except ValueError:\n",
        "    print(\"Invalid input. Please enter a number.\")\n",
        "except ZeroDivisionError:\n",
        "    print(\"Cannot divide by zero.\")\n",
        "except Exception as e:\n",
        "    print(f\"An unexpected error occurred: {e}\")\n"
      ],
      "metadata": {
        "colab": {
          "base_uri": "https://localhost:8080/"
        },
        "id": "rVJjcxnOvauT",
        "outputId": "caf7ae2e-5d6c-4514-e3fa-ad2996d4aee1"
      },
      "execution_count": null,
      "outputs": [
        {
          "output_type": "stream",
          "name": "stdout",
          "text": [
            "Enter a number: 0,0,0\n",
            "Invalid input. Please enter a number.\n"
          ]
        }
      ]
    },
    {
      "cell_type": "markdown",
      "source": [
        "    5.Using else and finally\n",
        "    The else block executes if no exceptions occur, and the finally block executes regardless of whether an exception occurs or not.\n",
        "    "
      ],
      "metadata": {
        "id": "9t7OW99SvkZX"
      }
    },
    {
      "cell_type": "code",
      "source": [
        "try:\n",
        "    num = int(input(\"Enter a number: \"))\n",
        "    result = 10 / num\n",
        "except ValueError:\n",
        "    print(\"Invalid input. Please enter a number.\")\n",
        "except ZeroDivisionError:\n",
        "    print(\"Cannot divide by zero.\")\n",
        "else:\n",
        "    print(f\"The result is {result}\")\n",
        "finally:\n",
        "    print(\"Execution complete.\")\n"
      ],
      "metadata": {
        "colab": {
          "base_uri": "https://localhost:8080/"
        },
        "id": "qoMNYXfDvxIU",
        "outputId": "f027e52b-60ef-466f-ae0b-35bfc27f565d"
      },
      "execution_count": null,
      "outputs": [
        {
          "output_type": "stream",
          "name": "stdout",
          "text": [
            "Enter a number: 0\n",
            "Cannot divide by zero.\n",
            "Execution complete.\n"
          ]
        }
      ]
    },
    {
      "cell_type": "markdown",
      "source": [
        "    8.What is the purpose of the with statement when handling files in Python?\n",
        "    The with statement in Python is used to handle files (and other resources) in a clean and efficient manner by ensuring proper resource management. When working with files, the primary purpose of the with statement is to simplify file handling and automatically take care of closing the file, even if an exception occurs during the operation.\n",
        "\n",
        "    Here’s why the with statement is beneficial:\n",
        "\n",
        "    Automatic Resource Management:\n",
        "\n",
        "    When you use with, the file is automatically closed once the block inside the with statement is exited. This happens whether the block is exited normally or via an exception.\n",
        "    Without with, you'd need to explicitly call file.close(), which can lead to bugs if you forget to close the file.\n",
        "    \n",
        "    Simpler Syntax:\n",
        "\n",
        "    The with statement eliminates the need for boilerplate code. You don’t need to write try-finally blocks to ensure the file is properly closed.\n",
        "    \n",
        "    Improved Readability and Maintainability:\n",
        "\n",
        "    The with statement makes the code cleaner and more readable, as it clearly indicates that the block is working with a managed resource.\n",
        "\n",
        "    Here’s an example:\n"
      ],
      "metadata": {
        "id": "b-SqBvRY2yT0"
      }
    },
    {
      "cell_type": "code",
      "source": [
        "with open(\"example.txt\", \"r\") as file:\n",
        "    data = file.read()\n",
        "\n"
      ],
      "metadata": {
        "id": "oQseKYcK4lRJ"
      },
      "execution_count": 7,
      "outputs": []
    },
    {
      "cell_type": "markdown",
      "source": [
        "    Without with:"
      ],
      "metadata": {
        "id": "VTnWtD5Y5ssg"
      }
    },
    {
      "cell_type": "code",
      "source": [
        "file = open(\"example.txt\", \"r\")\n",
        "try:\n",
        "    data = file.read()\n",
        "finally:\n",
        "    file.close()\n"
      ],
      "metadata": {
        "id": "uD-PYynu5yTk"
      },
      "execution_count": 6,
      "outputs": []
    },
    {
      "cell_type": "markdown",
      "source": [
        "    9.What is the difference between multithreading and multiprocessing?\n",
        "\n",
        "    Multithreading and multiprocessing are techniques used to achieve concurrency in a program, but they differ in their implementation, use cases, and how they operate at a fundamental level. Here's a breakdown:\n",
        "\n",
        "    Multithreading\n",
        "    \n",
        "    Definition:\n",
        "    Multithreading involves creating multiple threads within a single process. These threads share the same memory space but operate independently to execute tasks.\n",
        "\n",
        "    Memory Usage:\n",
        "    Threads share the same memory and resources of the parent process, leading to efficient memory usage.\n",
        "\n",
        "    Communication:\n",
        "    Threads can easily communicate with each other since they share the same memory space.\n",
        "\n",
        "    Overhead:\n",
        "    Lower overhead compared to multiprocessing because threads don't require separate memory space.\n",
        "\n",
        "    Parallelism:\n",
        "\n",
        "    In CPython (Python's most common implementation), due to the Global Interpreter Lock (GIL), threads are not truly parallel on multi-core processors. They achieve concurrency but not true parallelism.\n",
        "    Other programming environments may allow true parallelism with threads.\n",
        "    Use Cases:\n",
        "    Suitable for I/O-bound tasks like file operations, network requests, or GUI applications where tasks spend time waiting for external operations.\n",
        "\n",
        "    Multiprocessing\n",
        "\n",
        "    Definition:\n",
        "\n",
        "    Multiprocessing involves creating separate processes, each with its own memory space and resources, to execute tasks.\n",
        "\n",
        "    Memory Usage:\n",
        "    Each process has its own independent memory, which can lead to higher memory usage.\n",
        "\n",
        "    Communication:\n",
        "    Processes require inter-process communication (IPC) mechanisms like pipes, queues, or shared memory to communicate, which is more complex.\n",
        "\n",
        "    Overhead:\n",
        "    Higher overhead compared to threads because each process requires its own memory and initialization.\n",
        "\n",
        "    Parallelism:\n",
        "    Achieves true parallelism on multi-core processors since each process runs independently on its own CPU core.\n",
        "\n",
        "    Use Cases:\n",
        "    Suitable for CPU-bound tasks like mathematical computations, data processing, or machine learning models that require heavy computation."
      ],
      "metadata": {
        "id": "nebqdjY_6KTZ"
      }
    },
    {
      "cell_type": "markdown",
      "source": [
        "    10.What are the advantages of using logging in a program?\n",
        "    \n",
        "    Using logging in a program provides several advantages that enhance development, debugging, maintenance, and operational management. Here are the key benefits:\n",
        "\n",
        "    1.Improved Debugging\n",
        "    \n",
        "    Logs provide a detailed record of what the program is doing at various stages, helping developers identify issues quickly.\n",
        "    Easier to trace errors and unexpected behaviors without relying on external debugging tools.\n",
        "    \n",
        "    2.Better Monitoring and Maintenance\n",
        "    \n",
        "    Logs provide insights into the application's runtime behavior and performance.\n",
        "    Helps in identifying potential bottlenecks or problematic areas of the code that may not immediately lead to errors but affect efficiency.\n",
        "    \n",
        "    3.Enhanced Troubleshooting\n",
        "    When errors occur, logs help in understanding the root cause by capturing the state of the application, including error messages, stack traces, and execution flow.\n",
        "    \n",
        "    4.Granular Control\n",
        "    \n",
        "    Logging libraries allow control over what kind of messages are recorded (e.g., debug, info, warning, error, critical).\n",
        "    Allows developers to filter logs based on severity or relevance during analysis.\n",
        "    \n",
        "    5.Persistence and Auditing\n",
        "    \n",
        "    Logs can be stored for long-term analysis, enabling auditing and compliance tracking.\n",
        "    Useful for diagnosing issues that arise long after the application was executed.\n",
        "    \n",
        "    6.Team Collaboration\n",
        "    \n",
        "    Logs serve as a common point of reference for teams investigating issues, allowing consistent understanding across different team members.\n",
        "    \n",
        "    7.Insights into User Behavior\n",
        "    \n",
        "    Logs can capture user interactions and usage patterns, which can be valuable for feature improvements and user experience optimization.\n",
        "    \n",
        "    8.Non-Intrusive Debugging\n",
        "    \n",
        "    Logging allows developers to capture information about program behavior without interrupting execution, unlike breakpoints or interactive debugging.\n",
        "    \n",
        "    9.Production Safety\n",
        "    \n",
        "    Logs are essential in production environments where interactive debugging is not feasible.\n",
        "    Helps diagnose issues in live systems without exposing or halting operations.\n",
        "    \n",
        "    10.Automation and Integration\n",
        "    \n",
        "    Logs can be analyzed by automated systems for alerts, reports, or integration into monitoring tools like ELK Stack, Splunk, or CloudWatch.\n",
        "    \n",
        "    11.Customizability and Scalability\n",
        "    \n",
        "    Logging frameworks often support multiple outputs (e.g., files, databases, consoles, remote servers) and formats, making them suitable for various scales of applications.\n",
        "    Helps manage large-scale distributed systems where centralized logging is crucial.\n",
        "    \n",
        "    By providing a structured, consistent way to capture and analyze runtime information, logging significantly improves the reliability, maintainability, and efficiency of software systems.\n",
        "\n",
        "\n",
        "\n",
        "\n",
        "\n",
        "\n"
      ],
      "metadata": {
        "id": "lctJZzJR7S1G"
      }
    },
    {
      "cell_type": "markdown",
      "source": [
        "    11.What is memory management in Python?\n",
        "    Memory management in Python refers to the process of handling the allocation, usage, and deallocation of memory during the execution of Python programs. Python provides an efficient memory management system, which ensures that memory is used optimally and that unnecessary memory is freed up automatically."
      ],
      "metadata": {
        "id": "y4h9V9kCc1Gp"
      }
    },
    {
      "cell_type": "markdown",
      "source": [
        "    12.What are the basic steps involved in exception handling in Python?\n",
        "    In Python, exception handling involves managing errors or exceptions that occur during program execution. The basic steps involved are as follows:\n",
        "\n",
        "    1.Identify the Code That May Cause Exceptions\n",
        "    Wrap the code that might generate an error in a try block.\n",
        "\n"
      ],
      "metadata": {
        "id": "Mbtj17DOd1lN"
      }
    },
    {
      "cell_type": "code",
      "source": [
        "try:\n",
        "    # Code that may raise an exception\n",
        "    result = 10 / 0\n",
        "except ZeroDivisionError:\n",
        "    pass # Or handle the exception appropriately"
      ],
      "metadata": {
        "colab": {
          "base_uri": "https://localhost:8080/",
          "height": 106
        },
        "id": "OwaNdiwfhtfe",
        "outputId": "da12e526-5d3c-4c13-ed1e-3f5d4a253f5c"
      },
      "execution_count": 4,
      "outputs": [
        {
          "output_type": "error",
          "ename": "SyntaxError",
          "evalue": "incomplete input (<ipython-input-4-bc406fd94f19>, line 3)",
          "traceback": [
            "\u001b[0;36m  File \u001b[0;32m\"<ipython-input-4-bc406fd94f19>\"\u001b[0;36m, line \u001b[0;32m3\u001b[0m\n\u001b[0;31m    result = 10 / 0\u001b[0m\n\u001b[0m                   ^\u001b[0m\n\u001b[0;31mSyntaxError\u001b[0m\u001b[0;31m:\u001b[0m incomplete input\n"
          ]
        }
      ]
    },
    {
      "cell_type": "markdown",
      "source": [
        "    2.Handle Specific Exceptions\n",
        "    Use except blocks to catch and handle specific exceptions. This helps in addressing errors gracefully."
      ],
      "metadata": {
        "id": "N0CqIcq3jhjr"
      }
    },
    {
      "cell_type": "code",
      "source": [
        "try:\n",
        "    result = 10 / 0\n",
        "except ZeroDivisionError:\n",
        "    print(\"You can't divide by zero!\")\n"
      ],
      "metadata": {
        "colab": {
          "base_uri": "https://localhost:8080/"
        },
        "id": "H4YJEO3Yj1Bk",
        "outputId": "2499fc12-781c-4aaf-d497-170e998ff9d3"
      },
      "execution_count": null,
      "outputs": [
        {
          "output_type": "stream",
          "name": "stdout",
          "text": [
            "You can't divide by zero!\n"
          ]
        }
      ]
    },
    {
      "cell_type": "markdown",
      "source": [
        "    3.Use a General Exception Handler\n",
        "    Optionally, add a general except block to catch any exceptions that are not explicitly handled."
      ],
      "metadata": {
        "id": "CxdrVPixj_MF"
      }
    },
    {
      "cell_type": "code",
      "source": [
        "try:\n",
        "    result = int(\"abc\")\n",
        "except ValueError:\n",
        "    print(\"ValueError occurred.\")\n",
        "except Exception as e:\n",
        "    print(f\"An unexpected error occurred: {e}\")\n"
      ],
      "metadata": {
        "colab": {
          "base_uri": "https://localhost:8080/"
        },
        "id": "dsv-kUM4kLkV",
        "outputId": "613a5cc7-c8de-41c3-a0ac-613acb2df118"
      },
      "execution_count": null,
      "outputs": [
        {
          "output_type": "stream",
          "name": "stdout",
          "text": [
            "ValueError occurred.\n"
          ]
        }
      ]
    },
    {
      "cell_type": "markdown",
      "source": [
        "    4.Clean Up Resources (Optional)\n",
        "    Use a finally block to define code that will always execute, regardless of whether an exception occurred. This is often used for cleanup operations (e.g., closing a file or database connection).\n"
      ],
      "metadata": {
        "id": "EVRt4LVukSCk"
      }
    },
    {
      "cell_type": "code",
      "source": [
        "try:\n",
        "    file = open(\"example.txt\", \"r\")\n",
        "    # Perform operations with the file\n",
        "except FileNotFoundError:\n",
        "    print(\"File not found.\")\n",
        "finally:\n",
        "    file.close()\n"
      ],
      "metadata": {
        "colab": {
          "base_uri": "https://localhost:8080/",
          "height": 193
        },
        "id": "RCOIAx8jk3SY",
        "outputId": "68bccaf2-92e6-48e5-bc7a-b6e05e1176ce"
      },
      "execution_count": null,
      "outputs": [
        {
          "output_type": "stream",
          "name": "stdout",
          "text": [
            "File not found.\n"
          ]
        },
        {
          "output_type": "error",
          "ename": "NameError",
          "evalue": "name 'file' is not defined",
          "traceback": [
            "\u001b[0;31m---------------------------------------------------------------------------\u001b[0m",
            "\u001b[0;31mNameError\u001b[0m                                 Traceback (most recent call last)",
            "\u001b[0;32m<ipython-input-5-87ce769c33b9>\u001b[0m in \u001b[0;36m<cell line: 1>\u001b[0;34m()\u001b[0m\n\u001b[1;32m      5\u001b[0m     \u001b[0mprint\u001b[0m\u001b[0;34m(\u001b[0m\u001b[0;34m\"File not found.\"\u001b[0m\u001b[0;34m)\u001b[0m\u001b[0;34m\u001b[0m\u001b[0;34m\u001b[0m\u001b[0m\n\u001b[1;32m      6\u001b[0m \u001b[0;32mfinally\u001b[0m\u001b[0;34m:\u001b[0m\u001b[0;34m\u001b[0m\u001b[0;34m\u001b[0m\u001b[0m\n\u001b[0;32m----> 7\u001b[0;31m     \u001b[0mfile\u001b[0m\u001b[0;34m.\u001b[0m\u001b[0mclose\u001b[0m\u001b[0;34m(\u001b[0m\u001b[0;34m)\u001b[0m\u001b[0;34m\u001b[0m\u001b[0;34m\u001b[0m\u001b[0m\n\u001b[0m",
            "\u001b[0;31mNameError\u001b[0m: name 'file' is not defined"
          ]
        }
      ]
    },
    {
      "cell_type": "markdown",
      "source": [
        "    5.Raise Exceptions (Optional)\n",
        "    Use the raise keyword to trigger an exception intentionally.\n"
      ],
      "metadata": {
        "id": "WOjzxA4rm6xF"
      }
    },
    {
      "cell_type": "code",
      "source": [
        "def check_age(age):\n",
        "    if age < 18:\n",
        "        raise ValueError(\"Age must be 18 or older.\")\n"
      ],
      "metadata": {
        "id": "PZzeHxFXnCBP"
      },
      "execution_count": null,
      "outputs": []
    },
    {
      "cell_type": "markdown",
      "source": [
        "    6.Leverage Exception Hierarchies (Optional)\n",
        "    Use multiple except blocks to handle different exception types or group similar exceptions"
      ],
      "metadata": {
        "id": "_7zjkJzznP0W"
      }
    },
    {
      "cell_type": "code",
      "source": [
        "try:\n",
        "    result = 10 / 0\n",
        "except (ZeroDivisionError, ValueError) as e:\n",
        "    print(f\"An error occurred: {e}\")\n"
      ],
      "metadata": {
        "colab": {
          "base_uri": "https://localhost:8080/"
        },
        "id": "61wFtmLonXFL",
        "outputId": "c1b0681a-13c3-4519-a475-0a0ded2b9088"
      },
      "execution_count": null,
      "outputs": [
        {
          "output_type": "stream",
          "name": "stdout",
          "text": [
            "An error occurred: division by zero\n"
          ]
        }
      ]
    },
    {
      "cell_type": "markdown",
      "source": [
        "    7.Implement Custom Exceptions (Optional)\n",
        "    Define and raise custom exceptions for application-specific scenarios"
      ],
      "metadata": {
        "id": "B8zeEmZ4nvbw"
      }
    },
    {
      "cell_type": "code",
      "source": [
        "class CustomError(Exception):\n",
        "    pass\n",
        "\n",
        "raise CustomError(\"A custom error occurred.\")\n"
      ],
      "metadata": {
        "colab": {
          "base_uri": "https://localhost:8080/",
          "height": 176
        },
        "id": "FNU6a56xn7OM",
        "outputId": "4d7b8953-6ad7-4183-cd2a-2dff447d180e"
      },
      "execution_count": null,
      "outputs": [
        {
          "output_type": "error",
          "ename": "CustomError",
          "evalue": "A custom error occurred.",
          "traceback": [
            "\u001b[0;31m---------------------------------------------------------------------------\u001b[0m",
            "\u001b[0;31mCustomError\u001b[0m                               Traceback (most recent call last)",
            "\u001b[0;32m<ipython-input-12-04fdf8a7612c>\u001b[0m in \u001b[0;36m<cell line: 4>\u001b[0;34m()\u001b[0m\n\u001b[1;32m      2\u001b[0m     \u001b[0;32mpass\u001b[0m\u001b[0;34m\u001b[0m\u001b[0;34m\u001b[0m\u001b[0m\n\u001b[1;32m      3\u001b[0m \u001b[0;34m\u001b[0m\u001b[0m\n\u001b[0;32m----> 4\u001b[0;31m \u001b[0;32mraise\u001b[0m \u001b[0mCustomError\u001b[0m\u001b[0;34m(\u001b[0m\u001b[0;34m\"A custom error occurred.\"\u001b[0m\u001b[0;34m)\u001b[0m\u001b[0;34m\u001b[0m\u001b[0;34m\u001b[0m\u001b[0m\n\u001b[0m",
            "\u001b[0;31mCustomError\u001b[0m: A custom error occurred."
          ]
        }
      ]
    },
    {
      "cell_type": "markdown",
      "source": [
        "    13.Why is memory management important in Python?\n",
        "   \n",
        "    Memory management is a crucial aspect of Python (and any programming language) for the following reasons:\n",
        "\n",
        "    1.Efficient Use of Resources\n",
        "   \n",
        "    Proper memory management ensures that the available memory is utilized efficiently, avoiding wastage and allowing programs to handle larger datasets or more complex computations without running out of memory.\n",
        "    \n",
        "    2.Avoiding Memory Leaks\n",
        "   \n",
        "    Without proper management, objects that are no longer needed might not be freed, leading to memory leaks. Over time, this can cause programs to consume more and more memory, eventually resulting in crashes or degraded performance.\n",
        "   \n",
        "    3.Automatic Garbage Collection\n",
        "   \n",
        "    Python employs automatic memory management using garbage collection and reference counting, which reduces the burden on developers. However, understanding how it works helps avoid common pitfalls like reference cycles, where two or more objects reference each other, preventing their deallocation.\n",
        "  \n",
        "    4.Performance Optimization\n",
        "   \n",
        "    Knowing how Python handles memory can help developers write more efficient code. For example, understanding immutable objects (like strings and tuples) and how Python caches them can lead to better memory and performance optimization.\n",
        "    \n",
        "    5.Handling Dynamic Typing\n",
        "   \n",
        "    Python’s dynamic nature requires additional memory management mechanisms to allocate and deallocate memory for different data types at runtime. Proper memory handling ensures this flexibility does not come at the cost of inefficiency or instability.\n",
        "    \n",
        "    6.Multi-threading and Concurrency\n",
        "   \n",
        "    In scenarios involving multi-threading or concurrency, efficient memory management is essential to avoid race conditions, memory corruption, or other synchronization issues.\n",
        "    \n",
        "    7.Prevention of Program Crashes\n",
        "   \n",
        "    Mismanaged memory can lead to segmentation faults or other errors, causing a program to crash. Proper memory management helps maintain program stability and reliability.\n",
        "    \n",
        "    By understanding Python's memory model and tools, such as gc (garbage collector) and sys modules, developers can debug memory issues, write more efficient programs, and avoid pitfalls like memory leaks and excessive memory usage."
      ],
      "metadata": {
        "id": "vRXz-HJEqAvo"
      }
    },
    {
      "cell_type": "markdown",
      "source": [
        "    14.What is the role of try and except in exception handling?\n",
        "    In Python, the try and except blocks are used to handle exceptions, enabling programs to run smoothly even when errors occur. Here's an explanation of their roles:\n",
        "\n",
        "    1.try Block\n",
        "    The try block contains code that you suspect might raise an exception.\n",
        "    Python will execute the code in the try block and monitor for any exceptions that might occur.\n",
        "    \n",
        "    2.except Block\n",
        "    The except block specifies how to handle particular exceptions that are raised in the try block.\n",
        "    If an exception occurs in the try block, the control is immediately transferred to the appropriate except block.\n",
        "    If no exception occurs, the except block is skipped entirely.\n",
        "    \n",
        "    Basic Syntax:"
      ],
      "metadata": {
        "id": "qLCuWnN3q_cc"
      }
    },
    {
      "source": [
        "try:\n",
        "    # Code that might raise an exception\n",
        "    # Replace with an actual function or operation that might cause an error\n",
        "    # Example:\n",
        "    result = 10 / 0  # This will raise a ZeroDivisionError\n",
        "except ZeroDivisionError as e:  # Catch the specific exception\n",
        "    # Code to handle the exception\n",
        "    print(f\"An error occurred: {e}\")"
      ],
      "cell_type": "code",
      "metadata": {
        "colab": {
          "base_uri": "https://localhost:8080/"
        },
        "id": "1n6PEewk960h",
        "outputId": "2939713c-c602-4556-85f3-b10db8eea17e"
      },
      "execution_count": 3,
      "outputs": [
        {
          "output_type": "stream",
          "name": "stdout",
          "text": [
            "An error occurred: division by zero\n"
          ]
        }
      ]
    },
    {
      "cell_type": "markdown",
      "source": [
        "    Example:"
      ],
      "metadata": {
        "id": "Ml9KU8-hvvol"
      }
    },
    {
      "cell_type": "code",
      "source": [
        "try:\n",
        "    result = 10 / 0  # This will raise a ZeroDivisionError\n",
        "except ZeroDivisionError as e:\n",
        "    print(f\"Cannot divide by zero: {e}\")\n"
      ],
      "metadata": {
        "colab": {
          "base_uri": "https://localhost:8080/"
        },
        "id": "ZdQ6lKyNvzPi",
        "outputId": "3afe6d88-d11e-4aa1-dfc8-3f8eeacd38ce"
      },
      "execution_count": null,
      "outputs": [
        {
          "output_type": "stream",
          "name": "stdout",
          "text": [
            "Cannot divide by zero: division by zero\n"
          ]
        }
      ]
    },
    {
      "cell_type": "markdown",
      "source": [
        "    15.How does Python's garbage collection system work?\n",
        "    Python's garbage collection (GC) system is responsible for managing memory automatically by deallocating objects that are no longer in use. This ensures efficient memory usage and prevents memory leaks. Python's GC combines reference counting and a cyclic garbage collector to handle memory management.\n",
        "\n",
        "    1.Reference Counting\n",
        "    How it works: Every Python object has an associated reference count, which tracks how many references (or pointers) point to the object.\n",
        "\n",
        "    When an object is created, its reference count starts at 1.\n",
        "    The reference count increases when:\n",
        "    A new reference is made to the object (e.g., assigning the object to another variable).\n",
        "    The reference count decreases when:\n",
        "    A reference is deleted (e.g., using del).\n",
        "    A reference goes out of scope.\n",
        "    Garbage collection: When an object's reference count drops to zero, it is immediately deallocated, and the memory is released.\n",
        "\n",
        "    Limitations: Reference counting cannot handle cyclic references, where two or more objects reference each other, preventing their reference counts from ever reaching zero.\n",
        "\n",
        "    2.Cyclic Garbage Collector\n",
        "    To address the limitation of reference counting, Python includes a cyclic garbage collector as part of the gc module. It is designed to identify and collect objects involved in reference cycles.\n",
        "\n",
        "    How it works:\n",
        "\n",
        "    Python maintains a list of all objects (in generations) that could potentially be part of a cycle.\n",
        "    The garbage collector periodically scans this list for cycles.        \n",
        "    When it detects a cycle (e.g., objects A → B → A), it breaks the cycle and deallocates the involved objects.\n",
        "    Generational approach: Python organizes objects into three \"generations\" based on their lifespan:\n",
        "\n",
        "    Generation 0: Newly created objects.\n",
        "    Generation 1: Objects that survived one GC cycle.\n",
        "    Generation 2: Objects that survived multiple GC cycles.\n",
        "    Why generations? Most objects are short-lived, so focusing more on Generation 0 improves efficiency. Generational GC reduces the frequency of scanning long-lived objects.\n",
        "\n",
        "    Triggers for GC:\n",
        "\n",
        "    The GC is triggered automatically when the number of allocations and deallocations exceeds a certain threshold.\n",
        "    It can also be triggered manually using the gc.collect() function.\n",
        "    \n",
        "    3.Customizing Garbage Collection\n",
        "    The gc module provides functions for inspecting and controlling garbage collection:\n",
        "\n",
        "    gc.enable() and gc.disable() to turn garbage collection on or off.\n",
        "    gc.collect() to manually invoke the garbage collector.\n",
        "    gc.set_threshold() to configure thresholds for triggering collection in different generations.\n",
        "    gc.get_objects() to retrieve all objects currently tracked by the garbage collector.\n"
      ],
      "metadata": {
        "id": "suODZFvZwHgV"
      }
    },
    {
      "cell_type": "markdown",
      "source": [
        "    16.What is the purpose of the else block in exception handling?\n",
        "    In Python, the else block in exception handling is used to define code that should run only if no exceptions were raised in the try block. It provides a way to separate the \"happy path\" logic from both the error-handling logic in the except block and the finalization logic in the finally block.\n",
        "\n",
        "    Example:"
      ],
      "metadata": {
        "id": "33JhXCfM0jxA"
      }
    },
    {
      "cell_type": "code",
      "source": [
        "try:\n",
        "    number = int(input(\"Enter a number: \"))\n",
        "except ValueError:\n",
        "    print(\"That's not a valid number!\")\n",
        "else:\n",
        "    print(f\"You entered: {number}\")\n",
        "finally:\n",
        "    print(\"Execution completed.\")\n"
      ],
      "metadata": {
        "colab": {
          "base_uri": "https://localhost:8080/"
        },
        "id": "RiNhjYGa6Ukk",
        "outputId": "e864812b-5175-45ba-845f-535ff7decd3b"
      },
      "execution_count": null,
      "outputs": [
        {
          "output_type": "stream",
          "name": "stdout",
          "text": [
            "Enter a number: 0\n",
            "You entered: 0\n",
            "Execution completed.\n"
          ]
        }
      ]
    },
    {
      "cell_type": "markdown",
      "source": [
        "    17.What are the common logging levels in Python?\n",
        "    In Python, the logging module provides several logging levels to indicate the severity of events or messages. Here are the common logging levels, listed in order of increasing severity:\n",
        "\n",
        "    DEBUG (10)\n",
        "\n",
        "    Detailed information, typically of interest only when diagnosing problems.\n",
        "    Example: \"Starting data processing function.\"\n",
        "    \n",
        "    INFO (20)\n",
        "\n",
        "    Confirmation that things are working as expected.\n",
        "    Example: \"User successfully logged in.\"\n",
        "    \n",
        "    WARNING (30)\n",
        "\n",
        "    An indication that something unexpected happened or that something may cause problems in the future. The software is still working as expected.\n",
        "    Example: \"Disk space running low.\"\n",
        "    \n",
        "    ERROR (40)\n",
        "\n",
        "    A more serious problem that prevented the program from performing some function.\n",
        "    Example: \"Failed to connect to the database.\"\n",
        "    CRITICAL (50)\n",
        "\n",
        "    A very serious error indicating that the program itself may be unable to continue running.\n",
        "    Example: \"System crash: shutting down.\"\n",
        "    Setting the Logging Level\n",
        "    You can set the logging level to control the granularity of the logs being recorded. For example:"
      ],
      "metadata": {
        "id": "tAO_Wgxo7qOI"
      }
    },
    {
      "cell_type": "code",
      "source": [
        "import logging\n",
        "\n",
        "# Set logging level to INFO\n",
        "logging.basicConfig(level=logging.INFO)\n",
        "\n",
        "logging.debug(\"This is a debug message\")   # Won't be logged\n",
        "logging.info(\"This is an info message\")    # Will be logged\n",
        "logging.warning(\"This is a warning message\")  # Will be logged\n"
      ],
      "metadata": {
        "colab": {
          "base_uri": "https://localhost:8080/"
        },
        "id": "pD0-jkXc8hn7",
        "outputId": "dcedf957-1eea-4ed2-eff3-d125bf93f93d"
      },
      "execution_count": null,
      "outputs": [
        {
          "output_type": "stream",
          "name": "stderr",
          "text": [
            "WARNING:root:This is a warning message\n"
          ]
        }
      ]
    },
    {
      "cell_type": "markdown",
      "source": [
        "    18.What is the difference between os.fork() and multiprocessing in Python?\n",
        "    In Python, both os.fork() and the multiprocessing module are used to create new processes, but they differ significantly in terms of functionality, use case, and behavior. Here's a comparison:\n",
        "\n",
        "    1.os.fork()\n",
        "   \n",
        "    Definition: os.fork() is a low-level system call that directly interfaces with the operating system to create a new process by duplicating the current process.\n",
        "   \n",
        "    Availability: Available only on Unix-like operating systems (e.g., Linux, macOS). Not available on Windows.\n",
        "   \n",
        "    Behavior:\n",
        "   \n",
        "    Creates a child process that is an exact copy of the parent process, inheriting the same memory, file descriptors, etc.\n",
        "    After the fork, both processes (parent and child) continue execution from the same point but with different process IDs.\n",
        "    The return value of os.fork() determines whether the code is running in the parent (returns child's PID) or child process (returns 0).\n",
        "   \n",
        "    Use Case: Used for fine-grained control over process creation and management. It's useful when you want to manage processes manually and is common in system programming.\n",
        "    \n",
        "    Example:"
      ],
      "metadata": {
        "id": "xNz70Jfb-WbC"
      }
    },
    {
      "cell_type": "code",
      "source": [
        "import os\n",
        "\n",
        "pid = os.fork()\n",
        "\n",
        "if pid == 0:\n",
        "    print(\"This is the child process.\")\n",
        "else:\n",
        "    print(f\"This is the parent process. Child PID: {pid}\")\n"
      ],
      "metadata": {
        "id": "88PK4p-MBrb9",
        "colab": {
          "base_uri": "https://localhost:8080/"
        },
        "outputId": "5c5f0373-eee2-4d91-b951-b80c6dc9c6f6"
      },
      "execution_count": null,
      "outputs": [
        {
          "output_type": "stream",
          "name": "stdout",
          "text": [
            "This is the parent process. Child PID: 6655\n",
            "This is the child process.\n"
          ]
        }
      ]
    },
    {
      "cell_type": "markdown",
      "source": [
        "    19.What is the importance of closing a file in Python?\n",
        "   \n",
        "    Closing a file in Python is crucial for several reasons:\n",
        "\n",
        "    1.Releasing System Resources\n",
        "   \n",
        "    When a file is opened, system resources such as memory and file handles are allocated. Closing the file releases these resources back to the operating system. Failing to close files may lead to resource leaks, potentially causing your program to crash or behave unpredictably.\n",
        "    \n",
        "    2.Flushing Data to Disk\n",
        "   \n",
        "    If a file is opened in write or append mode, data written to the file is often buffered (stored temporarily in memory). Closing the file ensures that all buffered data is written (flushed) to the disk, preventing data loss or corruption.\n",
        "    \n",
        "    3.Avoiding File Access Issues\n",
        "   \n",
        "    An open file might be locked, preventing other programs or parts of the code from accessing or modifying it. Closing the file removes this lock, making it available for other processes.\n",
        "   \n",
        "    Ensuring Proper Cleanup\n",
        "   \n",
        "    Explicitly closing files helps maintain clean and predictable code. It signals that the file is no longer needed and avoids potential issues when multiple files are handled simultaneously.\n",
        "   \n",
        "    Compliance with Best Practices\n",
        "   \n",
        "    Properly managing resources, including file handles, is a hallmark of good programming practice. It improves the maintainability and reliability of your code.\n",
        "   \n",
        "    How to Close Files\n",
        "    Files can be closed using:\n",
        "\n",
        "    1.The close() Method:"
      ],
      "metadata": {
        "id": "bapbLm5KDdW5"
      }
    },
    {
      "cell_type": "code",
      "source": [
        "file = open(\"example.txt\", \"r\")\n",
        "# Perform file operations\n",
        "file.close()\n"
      ],
      "metadata": {
        "id": "Vp9wfES-GQos"
      },
      "execution_count": null,
      "outputs": []
    },
    {
      "cell_type": "markdown",
      "source": [
        "    2.Using a with Statement (Preferred): The with statement automatically closes the file after the block of code is executed, even if an exception occurs:"
      ],
      "metadata": {
        "id": "xGvAYxfPGaCI"
      }
    },
    {
      "cell_type": "code",
      "source": [
        "with open(\"example.txt\", \"r\") as file:\n",
        "    # Perform file operations\n",
        "    pass # File is automatically closed here"
      ],
      "metadata": {
        "id": "G_Nc1X7FGkgl"
      },
      "execution_count": null,
      "outputs": []
    },
    {
      "cell_type": "markdown",
      "source": [
        "    20.What is the difference between file.read() and file.readline() in Python?\n",
        "    The difference between file.read() and file.readline() in Python lies in how they read data from a file and how much data they retrieve at a time:\n",
        "\n",
        "    1.file.read()\n",
        "    Purpose: Reads the entire contents of a file (or a specified number of bytes).\n",
        "\n",
        "    Returns: A single string containing all the data read from the file.\n",
        "\n",
        "    Usage: Typically used when you want to process the entire file at once.\n",
        "\n",
        "    Example:\n"
      ],
      "metadata": {
        "id": "46zTlmMYG-32"
      }
    },
    {
      "cell_type": "code",
      "source": [
        "with open('example.txt', 'r') as file:\n",
        "    content = file.read()\n",
        "    print(content)  # Prints the entire file content.\n"
      ],
      "metadata": {
        "colab": {
          "base_uri": "https://localhost:8080/"
        },
        "id": "jESRs7gtHcxl",
        "outputId": "616045c0-926b-4674-ec10-e876f4f85dac"
      },
      "execution_count": null,
      "outputs": [
        {
          "output_type": "stream",
          "name": "stdout",
          "text": [
            "This is a test file.\n"
          ]
        }
      ]
    },
    {
      "cell_type": "markdown",
      "source": [
        "    Optional Argument: You can pass a number as an argument to specify the maximum number of bytes to read:\n",
        "\n",
        "\n"
      ],
      "metadata": {
        "id": "dCd03-foHzDm"
      }
    },
    {
      "source": [
        "import os\n",
        "\n",
        "# Get the absolute path of the current notebook's directory\n",
        "notebook_path = os.path.abspath(\"\")\n",
        "\n",
        "# Construct the full file path\n",
        "file_path = os.path.join(notebook_path, \"example.txt\")\n",
        "\n",
        "# Check if the file exists, if not create it\n",
        "if not os.path.exists(file_path):\n",
        "    with open(file_path, 'w') as f:\n",
        "        f.write(\"This is a test file.\")  # Write some initial content\n",
        "\n",
        "# Now use this file_path when opening the file\n",
        "with open(file_path, 'r') as file:\n",
        "    partial_content = file.read(10)  # Reads the first 10 characters.\n",
        "    print(partial_content)"
      ],
      "cell_type": "code",
      "metadata": {
        "colab": {
          "base_uri": "https://localhost:8080/"
        },
        "id": "4dW3HrE26q_L",
        "outputId": "f512487a-948e-4bc9-c947-42789411efd5"
      },
      "execution_count": null,
      "outputs": [
        {
          "output_type": "stream",
          "name": "stdout",
          "text": [
            "This is a \n"
          ]
        }
      ]
    },
    {
      "cell_type": "markdown",
      "source": [
        "    2.file.readline()\n",
        "    Purpose: Reads a single line from the file.\n",
        "\n",
        "    Returns: A string containing one line (including the newline character \\n, if present).\n",
        "\n",
        "    Usage: Used when processing a file line by line, such as reading log files or structured data line by line.\n",
        "\n",
        "    Example:"
      ],
      "metadata": {
        "id": "IlfVKEEBIQFp"
      }
    },
    {
      "cell_type": "code",
      "source": [
        "with open('example.txt', 'r') as file:\n",
        "    first_line = file.readline()\n",
        "    print(first_line)  # Prints the first line of the file.\n"
      ],
      "metadata": {
        "colab": {
          "base_uri": "https://localhost:8080/"
        },
        "id": "Vh3oqPUYIe6N",
        "outputId": "35132742-ee60-4323-926d-d97dd35a0542"
      },
      "execution_count": null,
      "outputs": [
        {
          "output_type": "stream",
          "name": "stdout",
          "text": [
            "This is a test file.\n"
          ]
        }
      ]
    },
    {
      "cell_type": "markdown",
      "source": [
        "    Repeated Calls: If called multiple times, it reads subsequent lines:\n",
        "\n",
        "\n"
      ],
      "metadata": {
        "id": "FKG0km_8ImOR"
      }
    },
    {
      "cell_type": "code",
      "source": [
        "with open('example.txt', 'r') as file:\n",
        "    for _ in range(3):\n",
        "        print(file.readline())  # Prints the first three lines.\n"
      ],
      "metadata": {
        "colab": {
          "base_uri": "https://localhost:8080/"
        },
        "id": "Fzwn08EoIq4p",
        "outputId": "7608f01b-5311-48f8-fbca-1c84d1f6bad3"
      },
      "execution_count": null,
      "outputs": [
        {
          "output_type": "stream",
          "name": "stdout",
          "text": [
            "This is a test file.\n",
            "\n",
            "\n"
          ]
        }
      ]
    },
    {
      "cell_type": "markdown",
      "source": [
        "    21.What is the logging module in Python used for?\n",
        "    The logging module in Python is used to record (log) messages generated by a program during its execution. These messages can be used for debugging, monitoring, error tracking, and auditing. It provides a flexible framework for emitting log messages to different outputs, such as the console, files, or remote servers.\n",
        "    \n",
        "    Basic Example:"
      ],
      "metadata": {
        "id": "E2zUFf7xJohK"
      }
    },
    {
      "cell_type": "code",
      "source": [
        "import logging\n",
        "\n",
        "# Configure logging\n",
        "logging.basicConfig(level=logging.INFO, format='%(asctime)s - %(levelname)s - %(message)s')\n",
        "\n",
        "# Log messages of different severity levels\n",
        "logging.debug(\"This is a debug message.\")\n",
        "logging.info(\"This is an info message.\")\n",
        "logging.warning(\"This is a warning message.\")\n",
        "logging.error(\"This is an error message.\")\n",
        "logging.critical(\"This is a critical message.\")\n"
      ],
      "metadata": {
        "colab": {
          "base_uri": "https://localhost:8080/"
        },
        "id": "2nRrvITuKNqW",
        "outputId": "e78f1fa1-0fb6-423c-a964-4e1f24406465"
      },
      "execution_count": null,
      "outputs": [
        {
          "output_type": "stream",
          "name": "stderr",
          "text": [
            "WARNING:root:This is a warning message.\n",
            "ERROR:root:This is an error message.\n",
            "CRITICAL:root:This is a critical message.\n"
          ]
        }
      ]
    },
    {
      "cell_type": "markdown",
      "source": [
        "    22.What is the os module in Python used for in file handling?\n",
        "    The os module in Python provides a way to interact with the operating system and perform various file and directory-related operations. It is particularly useful for file handling tasks such as navigating the file system, manipulating files and directories, and retrieving file or directory information. Here are some common uses of the os module in file handling:"
      ],
      "metadata": {
        "id": "KhgeDQ41Kpxc"
      }
    },
    {
      "cell_type": "markdown",
      "source": [
        "    23.What are the challenges associated with memory management in Python?\n",
        "    \n",
        "    Memory management in Python is generally streamlined due to its automatic garbage collection and dynamic memory allocation. However, there are still several challenges associated with managing memory efficiently:\n",
        "\n",
        "    1.Memory Leaks\n",
        "    \n",
        "    Cause: Memory leaks can occur when references to unused objects persist, preventing the garbage collector from reclaiming the memory. Common causes include:\n",
        "    Cyclic references (e.g., objects referring to each other in a way that prevents garbage collection).\n",
        "    Global variables or caches holding references to objects longer than needed.\n",
        "    Solution: Use weak references (weakref module) and manual reference removal when necessary.\n",
        "    \n",
        "    2.Inefficient Use of Memory\n",
        "    \n",
        "    Cause: Inefficient data structures, such as using lists where dictionaries or sets would be more appropriate, can lead to excessive memory usage.\n",
        "    Solution: Choose appropriate data structures and use specialized libraries (e.g., NumPy) for handling large datasets efficiently.\n",
        "    \n",
        "    3.High Memory Consumption of Objects\n",
        "    \n",
        "    Cause: Python objects, especially those created dynamically or with heavy use of metadata, can consume more memory than expected.\n",
        "    Solution: Use slots (__slots__) in classes to reduce memory overhead by limiting dynamic attribute creation.\n",
        "    \n",
        "    4.Fragmentation\n",
        "    \n",
        "    Cause: Memory fragmentation can occur when frequent allocation and deallocation of objects of varying sizes create gaps in memory, making it difficult to allocate larger blocks.\n",
        "    Solution: Use memory pooling techniques or libraries like pymalloc for optimized allocation.\n",
        "    \n",
        "    5.Concurrency Issues\n",
        "    \n",
        "    Cause: The Global Interpreter Lock (GIL) limits parallel execution in multi-threaded applications, which can indirectly affect memory usage patterns and performance.\n",
        "    Solution: Use multiprocessing or other strategies like async programming to sidestep GIL constraints.\n",
        "    \n",
        "    6.Garbage Collection Overhead\n",
        "    \n",
        "    Cause: The garbage collector can introduce performance overhead, particularly during large-scale memory cleanup or when dealing with many cyclic references.\n",
        "    Solution: Manually manage garbage collection using the gc module (e.g., disabling it temporarily during performance-critical sections).\n",
        "    \n",
        "    7.Mutable vs. Immutable Data Types\n",
        "    \n",
        "    Challenge: Understanding the distinction between mutable (e.g., lists, dictionaries) and immutable (e.g., strings, tuples) types is crucial, as improper use can lead to unexpected memory behavior.\n",
        "    Solution: Ensure careful handling of mutable objects and avoid creating unnecessary copies of large data structures.\n",
        "    \n",
        "    8.Scaling Applications\n",
        "    \n",
        "    Challenge: In applications with high scalability requirements, such as web servers or machine learning pipelines, Python's memory handling might not be sufficient for peak performance.\n",
        "    Solution: Use tools for profiling and optimizing memory usage, such as tracemalloc, or employ memory-efficient libraries like Dask or PyTorch.\n",
        "    \n",
        "    9.External Library Memory Use\n",
        "    \n",
        "    Challenge: Libraries written in C/C++ may not always interact cleanly with Python's memory management, leading to issues like dangling pointers or unmanaged memory.\n",
        "    Solution: Use well-maintained libraries and monitor memory usage when integrating third-party tools.\n",
        "    \n",
        "    10.Diagnosing Memory Issues\n",
        "    \n",
        "    Challenge: Debugging memory issues, such as leaks or inefficient usage, can be difficult without the right tools.\n",
        "    Solution: Employ memory profiling and debugging tools like objgraph, memory_profiler, or tracemalloc.\n",
        "\n",
        "    By understanding these challenges and employing the right strategies and tools, developers can better manage memory in Python applications, ensuring efficiency and reliability.\n",
        "\n",
        "\n",
        "\n",
        "\n",
        "\n",
        "\n"
      ],
      "metadata": {
        "id": "dUQ8HASLED5B"
      }
    },
    {
      "cell_type": "markdown",
      "source": [
        "    24.How do you raise an exception manually in Python?\n",
        "    In Python, you can manually raise an exception using the raise statement. Here's the general syntax:"
      ],
      "metadata": {
        "id": "u0PY1ZxyGCrj"
      }
    },
    {
      "cell_type": "code",
      "source": [
        "raise ExceptionType(\"Optional custom error message\")\n"
      ],
      "metadata": {
        "colab": {
          "base_uri": "https://localhost:8080/",
          "height": 141
        },
        "id": "ko7a2LsnGSaP",
        "outputId": "71303212-5585-4a95-94c6-97c46487f90f"
      },
      "execution_count": null,
      "outputs": [
        {
          "output_type": "error",
          "ename": "NameError",
          "evalue": "name 'ExceptionType' is not defined",
          "traceback": [
            "\u001b[0;31m---------------------------------------------------------------------------\u001b[0m",
            "\u001b[0;31mNameError\u001b[0m                                 Traceback (most recent call last)",
            "\u001b[0;32m<ipython-input-1-031ad5123167>\u001b[0m in \u001b[0;36m<cell line: 1>\u001b[0;34m()\u001b[0m\n\u001b[0;32m----> 1\u001b[0;31m \u001b[0;32mraise\u001b[0m \u001b[0mExceptionType\u001b[0m\u001b[0;34m(\u001b[0m\u001b[0;34m\"Optional custom error message\"\u001b[0m\u001b[0;34m)\u001b[0m\u001b[0;34m\u001b[0m\u001b[0;34m\u001b[0m\u001b[0m\n\u001b[0m",
            "\u001b[0;31mNameError\u001b[0m: name 'ExceptionType' is not defined"
          ]
        }
      ]
    },
    {
      "cell_type": "markdown",
      "source": [
        "    Example:"
      ],
      "metadata": {
        "id": "Wsjd_DZpHm6f"
      }
    },
    {
      "cell_type": "code",
      "source": [
        "\n",
        "raise ValueError(\"This is a manually raised exception\")\n"
      ],
      "metadata": {
        "colab": {
          "base_uri": "https://localhost:8080/",
          "height": 141
        },
        "id": "bC2qbvAZHp0-",
        "outputId": "bae1b33b-3c47-48f4-d43b-2cdbd06073fb"
      },
      "execution_count": null,
      "outputs": [
        {
          "output_type": "error",
          "ename": "ValueError",
          "evalue": "This is a manually raised exception",
          "traceback": [
            "\u001b[0;31m---------------------------------------------------------------------------\u001b[0m",
            "\u001b[0;31mValueError\u001b[0m                                Traceback (most recent call last)",
            "\u001b[0;32m<ipython-input-5-6c0cc8edd4ef>\u001b[0m in \u001b[0;36m<cell line: 1>\u001b[0;34m()\u001b[0m\n\u001b[0;32m----> 1\u001b[0;31m \u001b[0;32mraise\u001b[0m \u001b[0mValueError\u001b[0m\u001b[0;34m(\u001b[0m\u001b[0;34m\"This is a manually raised exception\"\u001b[0m\u001b[0;34m)\u001b[0m\u001b[0;34m\u001b[0m\u001b[0;34m\u001b[0m\u001b[0m\n\u001b[0m",
            "\u001b[0;31mValueError\u001b[0m: This is a manually raised exception"
          ]
        }
      ]
    },
    {
      "cell_type": "markdown",
      "source": [
        "    25.Why is it important to use multithreading in certain applications?\n",
        "    Multithreading is important in certain applications because it can improve performance, responsiveness, and efficiency by allowing multiple tasks to run concurrently. Here are some key reasons why multithreading is beneficial:\n",
        "\n",
        "    1.Improved Responsiveness\n",
        "    \n",
        "    Multithreading enables applications to remain responsive even when performing time-consuming tasks. For example, in a graphical user interface (GUI) application, a separate thread can handle user inputs while another thread processes data in the background.\n",
        "    2.Efficient CPU Utilization\n",
        "    In multi-core processors, multithreading allows multiple threads to execute in parallel, effectively utilizing all available cores. This can significantly improve performance for compute-intensive applications.\n",
        "    \n",
        "    3.Concurrency\n",
        "    \n",
        "    Multithreading facilitates concurrent execution of multiple tasks. For instance, a web server can handle multiple client requests simultaneously, with each request managed by a separate thread.\n",
        "    \n",
        "    4.Faster Execution for Independent Tasks\n",
        "    \n",
        "    When tasks are independent and can run in parallel, multithreading can reduce the overall execution time. For example, in data processing, different threads can work on separate portions of the data set simultaneously.\n",
        "    \n",
        "    5.Resource Sharing\n",
        "    \n",
        "    Threads within the same process share resources such as memory, which makes communication between threads more efficient compared to inter-process communication.\n",
        "    \n",
        "    6.Background Processing\n",
        "    \n",
        "    Multithreading allows certain tasks (e.g., file I/O, data backups, or updates) to run in the background without interfering with the primary functionality of the application.\n",
        "    \n",
        "    7.Real-time Applications\n",
        "    \n",
        "    In real-time systems, multithreading can help meet timing constraints by dividing tasks into smaller, manageable threads that can be scheduled effectively."
      ],
      "metadata": {
        "id": "bpv0iwBoIKW4"
      }
    },
    {
      "cell_type": "markdown",
      "source": [
        " PRACTICAL**QUESTIONS**"
      ],
      "metadata": {
        "id": "uVNQGb8LPs7b"
      }
    },
    {
      "cell_type": "markdown",
      "source": [
        "    1.How can you open a file for writing in Python and write a string to it?\n",
        "    \n",
        "    To open a file for writing in Python and write a string to it, you can use the open function along with the write method. Here's how to do it:"
      ],
      "metadata": {
        "id": "zLC-244CKKDO"
      }
    },
    {
      "cell_type": "code",
      "source": [
        "# Open a file in write mode ('w')\n",
        "with open(\"example.txt\", \"w\") as file:\n",
        "    # Write a string to the file\n",
        "    file.write(\"Hello, this is a test string!\")\n"
      ],
      "metadata": {
        "id": "rHxtgl8oKjbS"
      },
      "execution_count": 9,
      "outputs": []
    },
    {
      "cell_type": "markdown",
      "source": [
        "    2.Write a Python program to read the contents of a file and print each line?"
      ],
      "metadata": {
        "id": "SZmTSysVLBzN"
      }
    },
    {
      "cell_type": "code",
      "source": [
        "def read_and_print_file(file_path):\n",
        "    try:\n",
        "        with open(file_path, 'r') as file:  # Open the file in read mode\n",
        "            for line in file:\n",
        "                print(line, end='')  # Print each line, avoiding extra newlines\n",
        "    except FileNotFoundError:\n",
        "        print(f\"Error: The file '{file_path}' does not exist.\")\n",
        "    except IOError as e:\n",
        "        print(f\"Error reading the file: {e}\")\n",
        "\n",
        "# Specify the file path\n",
        "file_path = 'example.txt'  # Replace with your file path\n",
        "read_and_print_file(file_path)\n"
      ],
      "metadata": {
        "colab": {
          "base_uri": "https://localhost:8080/"
        },
        "id": "8BRr51qKLK6h",
        "outputId": "51fb96b2-f21c-4ab1-8c36-13ec609f0510"
      },
      "execution_count": null,
      "outputs": [
        {
          "output_type": "stream",
          "name": "stdout",
          "text": [
            "Hello, this is a test string!"
          ]
        }
      ]
    },
    {
      "cell_type": "markdown",
      "source": [
        "    3.How would you handle a case where the file doesn't exist while trying to open it for reading?\n",
        "    When trying to open a file for reading and it doesn't exist, it's essential to handle this gracefully to prevent the program from crashing. Here’s how you can handle such a situation in Python:\n",
        "\n",
        "    1.Using a Try-Except Block\n",
        "    \n",
        "    The most common way to handle this is by catching the FileNotFoundError exception."
      ],
      "metadata": {
        "id": "knq-fU5lewAk"
      }
    },
    {
      "cell_type": "code",
      "source": [
        "try:\n",
        "    with open('non_existent_file.txt', 'r') as file:\n",
        "        content = file.read()\n",
        "        print(content)\n",
        "except FileNotFoundError:\n",
        "    print(\"Error: The file does not exist.\")\n"
      ],
      "metadata": {
        "colab": {
          "base_uri": "https://localhost:8080/"
        },
        "id": "_3V3reIffaku",
        "outputId": "9a6cbb7c-2186-413e-b6a7-692fcae3dec4"
      },
      "execution_count": null,
      "outputs": [
        {
          "output_type": "stream",
          "name": "stdout",
          "text": [
            "Error: The file does not exist.\n"
          ]
        }
      ]
    },
    {
      "cell_type": "markdown",
      "source": [
        "    2.Check if the File Exists Before Opening\n",
        "    You can use the os.path.exists method or pathlib to check if the file exists before attempting to open it.\n",
        "\n",
        "    Using os.path:"
      ],
      "metadata": {
        "id": "rOKOskJ0f2nF"
      }
    },
    {
      "cell_type": "code",
      "source": [
        "import os\n",
        "\n",
        "if os.path.exists('non_existent_file.txt'):\n",
        "    with open('non_existent_file.txt', 'r') as file:\n",
        "        content = file.read()\n",
        "        print(content)\n",
        "else:\n",
        "    print(\"Error: The file does not exist.\")\n"
      ],
      "metadata": {
        "colab": {
          "base_uri": "https://localhost:8080/"
        },
        "id": "KXN4d70mf85Q",
        "outputId": "27b2d8a4-91f7-439c-bf17-0851693d0ca3"
      },
      "execution_count": null,
      "outputs": [
        {
          "output_type": "stream",
          "name": "stdout",
          "text": [
            "Error: The file does not exist.\n"
          ]
        }
      ]
    },
    {
      "cell_type": "markdown",
      "source": [
        "    Using pathlib:"
      ],
      "metadata": {
        "id": "fSLTpMzwgHPu"
      }
    },
    {
      "cell_type": "code",
      "source": [
        "from pathlib import Path\n",
        "\n",
        "file_path = Path('non_existent_file.txt')\n",
        "if file_path.is_file():\n",
        "    with file_path.open('r') as file:\n",
        "        content = file.read()\n",
        "        print(content)\n",
        "else:\n",
        "    print(\"Error: The file does not exist.\")\n"
      ],
      "metadata": {
        "colab": {
          "base_uri": "https://localhost:8080/"
        },
        "id": "iYhlv4NLgKer",
        "outputId": "6ef84d6d-dc3e-45fb-f9d9-8e71a5dbb6f0"
      },
      "execution_count": null,
      "outputs": [
        {
          "output_type": "stream",
          "name": "stdout",
          "text": [
            "Error: The file does not exist.\n"
          ]
        }
      ]
    },
    {
      "cell_type": "markdown",
      "source": [
        "    3.Logging the Error\n",
        "    For applications where you need to debug or audit issues, you might want to log the error instead of just printing it."
      ],
      "metadata": {
        "id": "1bDE0JnmgS0q"
      }
    },
    {
      "cell_type": "code",
      "source": [
        "import logging\n",
        "\n",
        "logging.basicConfig(level=logging.ERROR, format='%(asctime)s - %(levelname)s - %(message)s')\n",
        "\n",
        "try:\n",
        "    with open('non_existent_file.txt', 'r') as file:\n",
        "        content = file.read()\n",
        "except FileNotFoundError:\n",
        "    logging.error(\"The file does not exist.\")\n"
      ],
      "metadata": {
        "colab": {
          "base_uri": "https://localhost:8080/"
        },
        "id": "odXFHpIUgZA-",
        "outputId": "e687d79b-91e5-4f45-abb7-ea395fda791c"
      },
      "execution_count": null,
      "outputs": [
        {
          "output_type": "stream",
          "name": "stderr",
          "text": [
            "ERROR:root:The file does not exist.\n"
          ]
        }
      ]
    },
    {
      "cell_type": "markdown",
      "source": [
        "    4.Write a Python script that reads from one file and writes its content to another file.\n",
        "    \n",
        "    Here is a Python script that reads the contents of one file and writes it to another file:\n",
        "\n"
      ],
      "metadata": {
        "id": "qCGVCIWZgr9K"
      }
    },
    {
      "cell_type": "code",
      "source": [
        "# Define the input and output file paths\n",
        "input_file = \"input.txt\"\n",
        "output_file = \"output.txt\"\n",
        "\n",
        "try:\n",
        "    # Open the input file in read mode and output file in write mode\n",
        "    with open(input_file, \"r\") as infile, open(output_file, \"w\") as outfile:\n",
        "        # Read the content of the input file\n",
        "        content = infile.read()\n",
        "\n",
        "        # Write the content to the output file\n",
        "        outfile.write(content)\n",
        "\n",
        "    print(f\"Content has been successfully copied from {input_file} to {output_file}.\")\n",
        "except FileNotFoundError:\n",
        "    print(f\"Error: The file {input_file} does not exist.\")\n",
        "except IOError as e:\n",
        "    print(f\"An I/O error occurred: {e}\")\n"
      ],
      "metadata": {
        "colab": {
          "base_uri": "https://localhost:8080/"
        },
        "id": "nssvHB3rha5-",
        "outputId": "4296acf1-86be-48fb-9a1e-798b558663e2"
      },
      "execution_count": 10,
      "outputs": [
        {
          "output_type": "stream",
          "name": "stdout",
          "text": [
            "Error: The file input.txt does not exist.\n"
          ]
        }
      ]
    },
    {
      "cell_type": "markdown",
      "source": [
        "    5.How would you catch and handle division by zero error in Python?\n",
        "    In Python, you can catch and handle a division by zero error using a try-except block. The specific exception to catch for division by zero is ZeroDivisionError.\n",
        "    \n",
        "    Here's an example:"
      ],
      "metadata": {
        "id": "_eFpcBZZh-6d"
      }
    },
    {
      "cell_type": "code",
      "source": [
        "try:\n",
        "    numerator = 10\n",
        "    denominator = 0\n",
        "    result = numerator / denominator\n",
        "    print(\"Result:\", result)\n",
        "except ZeroDivisionError:\n",
        "    print(\"Error: Cannot divide by zero.\")\n"
      ],
      "metadata": {
        "colab": {
          "base_uri": "https://localhost:8080/"
        },
        "id": "ctwhLnWGiSEw",
        "outputId": "2f541262-fd5a-4881-ce6e-3da3bc5a4c4d"
      },
      "execution_count": null,
      "outputs": [
        {
          "output_type": "stream",
          "name": "stdout",
          "text": [
            "Error: Cannot divide by zero.\n"
          ]
        }
      ]
    },
    {
      "cell_type": "markdown",
      "source": [
        "    6.Write a Python program that logs an error message to a log file when a division by zero exception occurs.\n",
        "    \n",
        "    Below is a Python program that logs an error message to a log file when a division by zero exception occurs. It uses Python's built-in logging module for handling the logging."
      ],
      "metadata": {
        "id": "HRw5Yg0ajCEg"
      }
    },
    {
      "cell_type": "code",
      "source": [
        "import logging\n",
        "\n",
        "# Configure logging\n",
        "logging.basicConfig(\n",
        "    filename=\"error_log.log\",  # Log file name\n",
        "    level=logging.ERROR,       # Log only error messages or above\n",
        "    format=\"%(asctime)s - %(levelname)s - %(message)s\"  # Log format\n",
        ")\n",
        "\n",
        "def divide_numbers(a, b):\n",
        "    \"\"\"\n",
        "    Function to divide two numbers.\n",
        "    Logs an error if a division by zero occurs.\n",
        "    \"\"\"\n",
        "    try:\n",
        "        result = a / b\n",
        "        return result\n",
        "    except ZeroDivisionError:\n",
        "        logging.error(\"Attempted to divide by zero. a: %s, b: %s\", a, b)\n",
        "        return None\n",
        "\n",
        "# Example usage\n",
        "if __name__ == \"__main__\":\n",
        "    print(\"Result of division:\", divide_numbers(10, 0))"
      ],
      "metadata": {
        "colab": {
          "base_uri": "https://localhost:8080/"
        },
        "id": "k987PBfukAoI",
        "outputId": "82f94583-127e-4bf4-bcf3-93a11741f514"
      },
      "execution_count": null,
      "outputs": [
        {
          "output_type": "stream",
          "name": "stderr",
          "text": [
            "ERROR:root:Attempted to divide by zero. a: 10, b: 0\n"
          ]
        },
        {
          "output_type": "stream",
          "name": "stdout",
          "text": [
            "Result of division: None\n"
          ]
        }
      ]
    },
    {
      "cell_type": "markdown",
      "source": [
        "    7.How do you log information at different levels (INFO, ERROR, WARNING) in Python using the logging module?\n",
        "\n",
        "    The Python logging module provides a robust way to log messages at different severity levels. Here's how you can log information at INFO, ERROR, WARNING, and other levels using this module.\n",
        "\n",
        "    Steps to Use the logging Module\n",
        "    Import the module:"
      ],
      "metadata": {
        "id": "XhlcT99pmGRy"
      }
    },
    {
      "cell_type": "code",
      "source": [
        "import logging\n"
      ],
      "metadata": {
        "id": "QVPYARXrosu7"
      },
      "execution_count": null,
      "outputs": []
    },
    {
      "cell_type": "markdown",
      "source": [
        "    Configure logging (optional, but recommended for control over formatting and output destination):"
      ],
      "metadata": {
        "id": "q76wE9qxoy5U"
      }
    },
    {
      "cell_type": "code",
      "source": [
        "logging.basicConfig(\n",
        "    level=logging.DEBUG,  # Set the lowest-severity level to capture\n",
        "    format='%(asctime)s - %(levelname)s - %(message)s',\n",
        "    filename='app.log',  # Log messages to a file (optional)\n",
        "    filemode='w'         # Overwrite the log file each run (optional)\n",
        ")\n"
      ],
      "metadata": {
        "id": "TH2pH9mbqHsW"
      },
      "execution_count": null,
      "outputs": []
    },
    {
      "cell_type": "markdown",
      "source": [
        "    3.Log messages at different levels:\n",
        "\n",
        "    DEBUG: Detailed diagnostic information.\n",
        "    INFO: General events or messages about the program's operation.\n",
        "    WARNING: Indications of potential problems.\n",
        "    ERROR: Errors that don't halt the program but should be addressed.\n",
        "    CRITICAL: Serious errors that might prevent program execution.\n",
        "    \n",
        "    Example:"
      ],
      "metadata": {
        "id": "V-ZhUc3_q5jv"
      }
    },
    {
      "cell_type": "code",
      "source": [
        "import logging\n",
        "\n",
        "# Configure the logging\n",
        "logging.basicConfig(\n",
        "    level=logging.DEBUG,\n",
        "    format='%(asctime)s - %(levelname)s - %(message)s'\n",
        ")\n",
        "\n",
        "# Example log messages\n",
        "logging.debug(\"Debugging details about the application.\")\n",
        "logging.info(\"Application started successfully.\")\n",
        "logging.warning(\"This is a warning about deprecated usage.\")\n",
        "logging.error(\"An error occurred while connecting to the database.\")\n",
        "logging.critical(\"Critical failure: Application shutting down.\")\n"
      ],
      "metadata": {
        "colab": {
          "base_uri": "https://localhost:8080/"
        },
        "id": "fsynddoNrCnH",
        "outputId": "7b62ed02-bb61-4ab6-f3df-7c41657ac0f2"
      },
      "execution_count": null,
      "outputs": [
        {
          "output_type": "stream",
          "name": "stderr",
          "text": [
            "WARNING:root:This is a warning about deprecated usage.\n",
            "ERROR:root:An error occurred while connecting to the database.\n",
            "CRITICAL:root:Critical failure: Application shutting down.\n"
          ]
        }
      ]
    },
    {
      "cell_type": "markdown",
      "source": [
        "    Adjusting Log Levels\n",
        "    \n",
        "    You can change the logging level to filter out less severe messages:"
      ],
      "metadata": {
        "id": "FOPsoBkSrdae"
      }
    },
    {
      "cell_type": "code",
      "source": [
        "logging.basicConfig(level=logging.WARNING)\n"
      ],
      "metadata": {
        "id": "4-ScGMJMrh5P"
      },
      "execution_count": null,
      "outputs": []
    },
    {
      "cell_type": "markdown",
      "source": [
        "    This configuration will log only WARNING, ERROR, and CRITICAL messages."
      ],
      "metadata": {
        "id": "oLg608QqrnVf"
      }
    },
    {
      "cell_type": "markdown",
      "source": [
        "    8.Write a program to handle a file opening error using exception handling.\n",
        "\n",
        "  "
      ],
      "metadata": {
        "id": "IMauBnKOuCj2"
      }
    },
    {
      "cell_type": "code",
      "source": [
        "def read_file(file_path):\n",
        "    try:\n",
        "        # Attempt to open the file\n",
        "        with open(file_path, 'r') as file:\n",
        "            content = file.read()\n",
        "            print(\"File content:\")\n",
        "            print(content)\n",
        "    except FileNotFoundError:\n",
        "        # Handle the case where the file does not exist\n",
        "        print(f\"Error: The file '{file_path}' was not found.\")\n",
        "    except PermissionError:\n",
        "        # Handle the case where the file cannot be accessed due to permission issues\n",
        "        print(f\"Error: Permission denied for file '{file_path}'.\")\n",
        "    except Exception as e:\n",
        "        # Handle any other unexpected errors\n",
        "        print(f\"An unexpected error occurred: {e}\")\n",
        "\n",
        "# Example usage\n",
        "file_path = input(\"Enter the path to the file you want to open: \")\n",
        "read_file(file_path)\n"
      ],
      "metadata": {
        "colab": {
          "base_uri": "https://localhost:8080/"
        },
        "id": "93MZA0Kvumwc",
        "outputId": "f1d45363-5217-45df-9c39-21a78fbed042"
      },
      "execution_count": null,
      "outputs": [
        {
          "output_type": "stream",
          "name": "stdout",
          "text": [
            "Enter the path to the file you want to open: 0\n",
            "Error: The file '0' was not found.\n"
          ]
        }
      ]
    },
    {
      "cell_type": "markdown",
      "source": [
        "    9.How can you append data to an existing file in Python?\n",
        "\n",
        "    In Python, you can append data to an existing file by opening the file in append mode ('a'). This allows you to write data at the end of the file without overwriting its existing contents.\n",
        "    \n",
        "    Here's an example:"
      ],
      "metadata": {
        "id": "vlPjEtI22JvR"
      }
    },
    {
      "cell_type": "code",
      "source": [
        "# Open the file in append mode\n",
        "with open('example.txt', 'a') as file:\n",
        "    # Append data to the file\n",
        "    file.write('This is the new line of text.\\n')\n"
      ],
      "metadata": {
        "id": "MT9IJ26h2jXo"
      },
      "execution_count": null,
      "outputs": []
    },
    {
      "cell_type": "markdown",
      "source": [
        "    In this example:\n",
        "\n",
        "    The 'a' mode opens the file for appending, meaning new data will be added to the end of the file.\n",
        "    The write() function is used to add the data to the file.\n",
        "    The \\n at the end of the string adds a newline so that the next appended data will start on a new line.\n",
        "    \n",
        "    This approach ensures that the data is added without deleting or modifying the existing contents of the file."
      ],
      "metadata": {
        "id": "9spmL8cr2ogJ"
      }
    },
    {
      "cell_type": "markdown",
      "source": [
        "    10.Write a Python program that uses a try-except block to handle an error when attempting to access a dictionary key that doesn't exist.\n",
        "\n",
        "    Here’s a Python program that demonstrates the use of a try-except block to handle a KeyError when trying to access a non-existent key in a dictionary:"
      ],
      "metadata": {
        "id": "FhhR_SOU2ucV"
      }
    },
    {
      "cell_type": "code",
      "source": [
        "# Define a dictionary\n",
        "my_dict = {\n",
        "    \"name\": \"Alice\",\n",
        "    \"age\": 25,\n",
        "    \"city\": \"New York\"\n",
        "}\n",
        "\n",
        "# Attempt to access a key\n",
        "key_to_access = \"country\"\n",
        "\n",
        "try:\n",
        "    # Try to access the specified key\n",
        "    value = my_dict[key_to_access]\n",
        "    print(f\"The value for '{key_to_access}' is {value}.\")\n",
        "except KeyError:\n",
        "    # Handle the KeyError if the key doesn't exist\n",
        "    print(f\"Error: The key '{key_to_access}' does not exist in the dictionary.\")\n",
        "\n",
        "# Continue execution\n",
        "print(\"Program continues...\")\n"
      ],
      "metadata": {
        "colab": {
          "base_uri": "https://localhost:8080/"
        },
        "id": "srY4O_hI3GNg",
        "outputId": "633b8a2e-aee0-40b5-bcf7-689891ecc7e4"
      },
      "execution_count": null,
      "outputs": [
        {
          "output_type": "stream",
          "name": "stdout",
          "text": [
            "Error: The key 'country' does not exist in the dictionary.\n",
            "Program continues...\n"
          ]
        }
      ]
    },
    {
      "cell_type": "markdown",
      "source": [
        "    Example Output:\n",
        "    \n",
        "    If you run the program, the output will be:"
      ],
      "metadata": {
        "id": "tDtPWL3X3ONZ"
      }
    },
    {
      "cell_type": "code",
      "source": [
        "# Error: The key 'country' does not exist in the dictionary.\n",
        "# Program continues..."
      ],
      "metadata": {
        "colab": {
          "base_uri": "https://localhost:8080/",
          "height": 106
        },
        "id": "Hd71a-rp3Ymy",
        "outputId": "2b4e63e6-0583-4fc3-f546-ecbc1dcfeb36"
      },
      "execution_count": null,
      "outputs": [
        {
          "output_type": "error",
          "ename": "SyntaxError",
          "evalue": "invalid syntax (<ipython-input-19-7b0017e27d1a>, line 1)",
          "traceback": [
            "\u001b[0;36m  File \u001b[0;32m\"<ipython-input-19-7b0017e27d1a>\"\u001b[0;36m, line \u001b[0;32m1\u001b[0m\n\u001b[0;31m    Error: The key 'country' does not exist in the dictionary.\u001b[0m\n\u001b[0m               ^\u001b[0m\n\u001b[0;31mSyntaxError\u001b[0m\u001b[0;31m:\u001b[0m invalid syntax\n"
          ]
        }
      ]
    },
    {
      "cell_type": "markdown",
      "source": [
        "    This ensures the program doesn't crash and handles the missing key gracefully."
      ],
      "metadata": {
        "id": "dvnj0mwK3dkp"
      }
    },
    {
      "cell_type": "markdown",
      "source": [
        "    11.Write a program that demonstrates using multiple except blocks to handle different types of exceptions.\n",
        "\n",
        "    Here’s an example Python program that demonstrates using multiple except blocks to handle different types of exceptions:"
      ],
      "metadata": {
        "id": "97IcTHW63gAM"
      }
    },
    {
      "cell_type": "code",
      "source": [
        "def handle_exceptions():\n",
        "    try:\n",
        "        print(\"Choose an operation:\")\n",
        "        print(\"1. Division\")\n",
        "        print(\"2. Access element in a list\")\n",
        "        choice = int(input(\"Enter your choice (1 or 2): \"))\n",
        "\n",
        "        if choice == 1:\n",
        "            # Division operation\n",
        "            numerator = int(input(\"Enter numerator: \"))\n",
        "            denominator = int(input(\"Enter denominator: \"))\n",
        "            result = numerator / denominator\n",
        "            print(f\"Result: {result}\")\n",
        "\n",
        "        elif choice == 2:\n",
        "            # Access element in a list\n",
        "            my_list = [10, 20, 30]\n",
        "            index = int(input(\"Enter index to access (0, 1, or 2): \"))\n",
        "            print(f\"Element at index {index}: {my_list[index]}\")\n",
        "\n",
        "        else:\n",
        "            print(\"Invalid choice!\")\n",
        "\n",
        "    except ValueError:\n",
        "        print(\"Error: Invalid input. Please enter numeric values.\")\n",
        "    except ZeroDivisionError:\n",
        "        print(\"Error: Division by zero is not allowed.\")\n",
        "    except IndexError:\n",
        "        print(\"Error: Index out of range. Please enter a valid index.\")\n",
        "    except Exception as e:\n",
        "        print(f\"An unexpected error occurred: {e}\")\n",
        "\n",
        "# Run the program\n",
        "handle_exceptions()\n"
      ],
      "metadata": {
        "colab": {
          "base_uri": "https://localhost:8080/"
        },
        "id": "wSnJ77E84Mjh",
        "outputId": "eb274e73-07b5-4af2-fb2c-bb2cd4ec0d58"
      },
      "execution_count": null,
      "outputs": [
        {
          "output_type": "stream",
          "name": "stdout",
          "text": [
            "Choose an operation:\n",
            "1. Division\n",
            "2. Access element in a list\n",
            "Enter your choice (1 or 2): 2\n",
            "Enter index to access (0, 1, or 2): 1\n",
            "Element at index 1: 20\n"
          ]
        }
      ]
    },
    {
      "cell_type": "markdown",
      "source": [
        "    12.How would you check if a file exists before attempting to read it in Python?\n",
        "\n",
        "    In Python, you can check if a file exists before attempting to read it by using the os.path.exists() method or the pathlib module. Here's how you can do it:\n",
        "\n",
        "    Using os.path.exists()"
      ],
      "metadata": {
        "id": "PTMKJBKa5lrU"
      }
    },
    {
      "cell_type": "code",
      "source": [
        "import os\n",
        "\n",
        "file_path = \"example.txt\"\n",
        "\n",
        "if os.path.exists(file_path):\n",
        "    with open(file_path, \"r\") as file:\n",
        "        content = file.read()\n",
        "        print(content)\n",
        "else:\n",
        "    print(f\"The file '{file_path}' does not exist.\")\n"
      ],
      "metadata": {
        "colab": {
          "base_uri": "https://localhost:8080/"
        },
        "id": "oQzL83RG7Olt",
        "outputId": "ae482d2c-68be-4296-a4b5-fa44559436ea"
      },
      "execution_count": null,
      "outputs": [
        {
          "output_type": "stream",
          "name": "stdout",
          "text": [
            "This is the new line of text.\n",
            "This is the new line of text.\n",
            "\n"
          ]
        }
      ]
    },
    {
      "cell_type": "markdown",
      "source": [
        "    Using pathlib.Path"
      ],
      "metadata": {
        "id": "DliRUkfp792f"
      }
    },
    {
      "cell_type": "code",
      "source": [
        "from pathlib import Path\n",
        "\n",
        "file_path = Path(\"example.txt\")\n",
        "\n",
        "if file_path.exists():\n",
        "    with file_path.open(\"r\") as file:\n",
        "        content = file.read()\n",
        "        print(content)\n",
        "else:\n",
        "    print(f\"The file '{file_path}' does not exist.\")\n"
      ],
      "metadata": {
        "colab": {
          "base_uri": "https://localhost:8080/"
        },
        "id": "kgnatqbd8LAc",
        "outputId": "e4a1aec8-0989-4e3f-a212-3da2dc0507bb"
      },
      "execution_count": null,
      "outputs": [
        {
          "output_type": "stream",
          "name": "stdout",
          "text": [
            "This is the new line of text.\n",
            "This is the new line of text.\n",
            "\n"
          ]
        }
      ]
    },
    {
      "cell_type": "markdown",
      "source": [
        "    Both methods work well, but pathlib is considered more modern and offers a more object-oriented approach to handling paths."
      ],
      "metadata": {
        "id": "7DT2-eN38YJp"
      }
    },
    {
      "cell_type": "markdown",
      "source": [
        "    13.Write a program that uses the logging module to log both informational and error messages."
      ],
      "metadata": {
        "id": "FIqOYO468r1C"
      }
    },
    {
      "cell_type": "code",
      "source": [
        "import logging\n",
        "\n",
        "# Configure logging settings\n",
        "logging.basicConfig(\n",
        "    level=logging.DEBUG,  # Set the threshold level to DEBUG to capture all levels\n",
        "    format='%(asctime)s - %(levelname)s - %(message)s',\n",
        "    filename='application.log',  # Logs will be saved to this file\n",
        "    filemode='w',  # Overwrite the log file on each run\n",
        ")\n",
        "\n",
        "# Add a console handler to also display logs in the console\n",
        "console_handler = logging.StreamHandler()\n",
        "console_handler.setLevel(logging.DEBUG)\n",
        "console_handler.setFormatter(logging.Formatter('%(levelname)s: %(message)s'))\n",
        "logging.getLogger().addHandler(console_handler)\n",
        "\n",
        "# Example usage\n",
        "def perform_operations():\n",
        "    logging.info(\"Application started.\")\n",
        "    try:\n",
        "        logging.info(\"Performing a division operation.\")\n",
        "        result = 10 / 0  # This will raise a ZeroDivisionError\n",
        "        logging.info(f\"Division result: {result}\")\n",
        "    except ZeroDivisionError as e:\n",
        "        logging.error(\"An error occurred during division.\", exc_info=True)\n",
        "\n",
        "    logging.info(\"Performing another operation.\")\n",
        "    try:\n",
        "        logging.info(\"Accessing an element in a list.\")\n",
        "        sample_list = [1, 2, 3]\n",
        "        element = sample_list[10]  # This will raise an IndexError\n",
        "        logging.info(f\"Accessed element: {element}\")\n",
        "    except IndexError as e:\n",
        "        logging.error(\"An error occurred while accessing the list.\", exc_info=True)\n",
        "\n",
        "    logging.info(\"Application finished.\")\n",
        "\n",
        "if __name__ == \"__main__\":\n",
        "    perform_operations()\n"
      ],
      "metadata": {
        "colab": {
          "base_uri": "https://localhost:8080/"
        },
        "id": "uD0Xs0QD_sU4",
        "outputId": "e1319f26-84eb-40af-fbff-bce351814033"
      },
      "execution_count": null,
      "outputs": [
        {
          "output_type": "stream",
          "name": "stderr",
          "text": [
            "ERROR:root:An error occurred during division.\n",
            "Traceback (most recent call last):\n",
            "  File \"<ipython-input-31-252a33f1aa71>\", line 22, in perform_operations\n",
            "    result = 10 / 0  # This will raise a ZeroDivisionError\n",
            "ZeroDivisionError: division by zero\n",
            "ERROR: An error occurred during division.\n",
            "Traceback (most recent call last):\n",
            "  File \"<ipython-input-31-252a33f1aa71>\", line 22, in perform_operations\n",
            "    result = 10 / 0  # This will raise a ZeroDivisionError\n",
            "ZeroDivisionError: division by zero\n",
            "ERROR:root:An error occurred while accessing the list.\n",
            "Traceback (most recent call last):\n",
            "  File \"<ipython-input-31-252a33f1aa71>\", line 31, in perform_operations\n",
            "    element = sample_list[10]  # This will raise an IndexError\n",
            "IndexError: list index out of range\n",
            "ERROR: An error occurred while accessing the list.\n",
            "Traceback (most recent call last):\n",
            "  File \"<ipython-input-31-252a33f1aa71>\", line 31, in perform_operations\n",
            "    element = sample_list[10]  # This will raise an IndexError\n",
            "IndexError: list index out of range\n"
          ]
        }
      ]
    },
    {
      "cell_type": "markdown",
      "source": [
        "    14.Write a Python program that prints the content of a file and handles the case when the file is empty.\n",
        "\n",
        "    Here's a Python program that prints the content of a file. It handles the case when the file is empty by notifying the user:"
      ],
      "metadata": {
        "id": "hdDhufI7_1wW"
      }
    },
    {
      "cell_type": "code",
      "source": [
        "def print_file_content(file_path):\n",
        "    try:\n",
        "        with open(file_path, 'r') as file:\n",
        "            content = file.read()\n",
        "            if content.strip():  # Check if content is not just whitespace\n",
        "                print(\"File content:\")\n",
        "                print(content)\n",
        "            else:\n",
        "                print(\"The file is empty.\")\n",
        "    except FileNotFoundError:\n",
        "        print(f\"Error: The file '{file_path}' was not found.\")\n",
        "    except Exception as e:\n",
        "        print(f\"An error occurred: {e}\")\n",
        "\n",
        "# Example usage\n",
        "if __name__ == \"__main__\":\n",
        "    file_path = input(\"Enter the file path: \")\n",
        "    print_file_content(file_path)\n"
      ],
      "metadata": {
        "colab": {
          "base_uri": "https://localhost:8080/"
        },
        "id": "4ZR7usNNAr7J",
        "outputId": "8b509172-131b-4e3d-bd8f-ce0b282af18e"
      },
      "execution_count": null,
      "outputs": [
        {
          "output_type": "stream",
          "name": "stdout",
          "text": [
            "Enter the file path: 0\n",
            "Error: The file '0' was not found.\n"
          ]
        }
      ]
    },
    {
      "cell_type": "markdown",
      "source": [
        "    15.Demonstrate how to use memory profiling to check the memory usage of a small program.\n",
        "\n",
        "    To demonstrate memory profiling in Python, we can use the memory_profiler module, which provides a simple way to monitor memory usage of a program line by line.\n",
        "\n",
        "    Step 1: Install memory_profiler\n",
        "    First, you need to install the memory_profiler package if you haven't already:"
      ],
      "metadata": {
        "id": "k2s8GOycA6I2"
      }
    },
    {
      "cell_type": "code",
      "source": [
        "pip install memory-profiler\n"
      ],
      "metadata": {
        "colab": {
          "base_uri": "https://localhost:8080/"
        },
        "id": "JkuIy04tBYi2",
        "outputId": "4651159b-d1dc-4620-eda7-39d158e3d631"
      },
      "execution_count": 11,
      "outputs": [
        {
          "output_type": "stream",
          "name": "stdout",
          "text": [
            "Collecting memory-profiler\n",
            "  Downloading memory_profiler-0.61.0-py3-none-any.whl.metadata (20 kB)\n",
            "Requirement already satisfied: psutil in /usr/local/lib/python3.10/dist-packages (from memory-profiler) (5.9.5)\n",
            "Downloading memory_profiler-0.61.0-py3-none-any.whl (31 kB)\n",
            "Installing collected packages: memory-profiler\n",
            "Successfully installed memory-profiler-0.61.0\n"
          ]
        }
      ]
    },
    {
      "cell_type": "markdown",
      "source": [
        "    Step 2: Write a Sample Program\n",
        "    Here’s a simple Python program where we can track memory usage:"
      ],
      "metadata": {
        "id": "thO7np9sBfJb"
      }
    },
    {
      "source": [
        "!pip install memory-profiler # Install the memory_profiler package. This command needs to be executed in a cell before importing\n",
        "from memory_profiler import profile\n",
        "\n",
        "@profile\n",
        "def my_function():\n",
        "    a = [1] * (10 ** 6)  # Create a list of 1 million elements\n",
        "    b = [2] * (2 * 10 ** 7)  # Create a larger list\n",
        "    del b  # Delete the large list to free memory\n",
        "    return a\n",
        "\n",
        "if __name__ == '__main__':\n",
        "    my_function()"
      ],
      "cell_type": "code",
      "metadata": {
        "colab": {
          "base_uri": "https://localhost:8080/"
        },
        "id": "R6u6QSq5W783",
        "outputId": "87474856-2efd-431f-cbd3-347b96cbc94d"
      },
      "execution_count": 14,
      "outputs": [
        {
          "output_type": "stream",
          "name": "stdout",
          "text": [
            "Requirement already satisfied: memory-profiler in /usr/local/lib/python3.10/dist-packages (0.61.0)\n",
            "Requirement already satisfied: psutil in /usr/local/lib/python3.10/dist-packages (from memory-profiler) (5.9.5)\n"
          ]
        },
        {
          "output_type": "stream",
          "name": "stderr",
          "text": [
            "\n",
            "PYDEV DEBUGGER WARNING:\n",
            "sys.settrace() should not be used when the debugger is being used.\n",
            "This may cause the debugger to stop working correctly.\n",
            "If this is needed, please check: \n",
            "http://pydev.blogspot.com/2007/06/why-cant-pydev-debugger-work-with.html\n",
            "to see how to restore the debug tracing back correctly.\n",
            "Call Location:\n",
            "  File \"/usr/local/lib/python3.10/dist-packages/memory_profiler.py\", line 847, in enable\n",
            "    sys.settrace(self.trace_memory_usage)\n",
            "\n",
            "\n",
            "PYDEV DEBUGGER WARNING:\n",
            "sys.settrace() should not be used when the debugger is being used.\n",
            "This may cause the debugger to stop working correctly.\n",
            "If this is needed, please check: \n",
            "http://pydev.blogspot.com/2007/06/why-cant-pydev-debugger-work-with.html\n",
            "to see how to restore the debug tracing back correctly.\n",
            "Call Location:\n",
            "  File \"/usr/local/lib/python3.10/dist-packages/memory_profiler.py\", line 850, in disable\n",
            "    sys.settrace(self._original_trace_function)\n",
            "\n"
          ]
        },
        {
          "output_type": "stream",
          "name": "stdout",
          "text": [
            "ERROR: Could not find file <ipython-input-14-d39375d608c7>\n",
            "NOTE: %mprun can only be used on functions defined in physical files, and not in the IPython environment.\n"
          ]
        }
      ]
    },
    {
      "cell_type": "markdown",
      "source": [
        "    Step 3: Run the Program with Memory Profiling\n",
        "    \n",
        "    Run the script from the command line like this:\n",
        "\n",
        "\n"
      ],
      "metadata": {
        "id": "ElktjP13Bz2d"
      }
    },
    {
      "cell_type": "code",
      "source": [
        "!python -m memory_profiler your_script.py"
      ],
      "metadata": {
        "colab": {
          "base_uri": "https://localhost:8080/"
        },
        "id": "_4I5co3iB31o",
        "outputId": "3b020db9-50c8-44ca-a435-a9cf9d254d94"
      },
      "execution_count": 13,
      "outputs": [
        {
          "output_type": "stream",
          "name": "stdout",
          "text": [
            "Could not find script your_script.py\n"
          ]
        }
      ]
    },
    {
      "cell_type": "markdown",
      "source": [
        "    Example Output:\n",
        "    \n",
        "    The output will show the memory usage in each line:"
      ],
      "metadata": {
        "id": "KiHcpNhCCSeG"
      }
    },
    {
      "cell_type": "code",
      "source": [
        "Line #    Mem usage    Increment   Line Contents\n",
        "================================================\n",
        "     4     15.3 MiB     15.3 MiB   @profile\n",
        "     5     15.3 MiB      0.0 MiB   def my_function():\n",
        "     6     16.4 MiB      1.1 MiB       a = [1] * (10 ** 6)\n",
        "     7     55.6 MiB     39.2 MiB       b = [2] * (2 * 10 ** 7)\n",
        "     8     55.6 MiB      0.0 MiB       del b\n",
        "     9     16.4 MiB     -39.2 MiB       return a\n"
      ],
      "metadata": {
        "colab": {
          "base_uri": "https://localhost:8080/",
          "height": 106
        },
        "id": "_g0rsxeaCWDl",
        "outputId": "8cbc7831-a0e6-4e2b-d425-9532671c70e9"
      },
      "execution_count": 8,
      "outputs": [
        {
          "output_type": "error",
          "ename": "SyntaxError",
          "evalue": "invalid syntax (<ipython-input-8-2477f01528fb>, line 2)",
          "traceback": [
            "\u001b[0;36m  File \u001b[0;32m\"<ipython-input-8-2477f01528fb>\"\u001b[0;36m, line \u001b[0;32m2\u001b[0m\n\u001b[0;31m    ================================================\u001b[0m\n\u001b[0m    ^\u001b[0m\n\u001b[0;31mSyntaxError\u001b[0m\u001b[0;31m:\u001b[0m invalid syntax\n"
          ]
        }
      ]
    },
    {
      "cell_type": "markdown",
      "source": [
        "    16.Write a Python program to create and write a list of numbers to a file, one number per line.\n",
        "\n",
        "    Here's a Python program that creates a list of numbers and writes them to a file, one number per line:"
      ],
      "metadata": {
        "id": "Nnkh_WEOCi3P"
      }
    },
    {
      "cell_type": "code",
      "source": [
        "# Create a list of numbers\n",
        "numbers = [1, 2, 3, 4, 5, 6, 7, 8, 9, 10]\n",
        "\n",
        "# Open a file in write mode\n",
        "with open('numbers.txt', 'w') as file:\n",
        "    # Write each number to the file, one per line\n",
        "    for number in numbers:\n",
        "        file.write(f\"{number}\\n\")\n",
        "\n",
        "print(\"Numbers have been written to 'numbers.txt'.\")\n"
      ],
      "metadata": {
        "colab": {
          "base_uri": "https://localhost:8080/"
        },
        "id": "4TfIpqRBCyK1",
        "outputId": "5639bbd1-f414-450b-8d13-cab33a3060e1"
      },
      "execution_count": null,
      "outputs": [
        {
          "output_type": "stream",
          "name": "stdout",
          "text": [
            "Numbers have been written to 'numbers.txt'.\n"
          ]
        }
      ]
    },
    {
      "cell_type": "markdown",
      "source": [
        "    17.How would you implement a basic logging setup that logs to a file with rotation after 1MB?\n",
        "\n",
        "    To implement a basic logging setup in Python that logs to a file with rotation after the log file reaches 1MB, you can use the logging module along with RotatingFileHandler. Here's an example of how to do it:"
      ],
      "metadata": {
        "id": "V5X5GB8iC37J"
      }
    },
    {
      "cell_type": "code",
      "source": [
        "import logging\n",
        "from logging.handlers import RotatingFileHandler\n",
        "\n",
        "# Create a logger\n",
        "logger = logging.getLogger('my_logger')\n",
        "logger.setLevel(logging.DEBUG)  # Set the desired logging level\n",
        "\n",
        "# Create a rotating file handler that rotates after 1MB\n",
        "log_file = 'my_log.log'\n",
        "handler = RotatingFileHandler(log_file, maxBytes=1e6, backupCount=5)  # maxBytes=1MB, backupCount=5\n",
        "\n",
        "# Create a formatter for the log messages\n",
        "formatter = logging.Formatter('%(asctime)s - %(name)s - %(levelname)s - %(message)s')\n",
        "handler.setFormatter(formatter)\n",
        "\n",
        "# Add the handler to the logger\n",
        "logger.addHandler(handler)\n",
        "\n",
        "# Example logging\n",
        "logger.debug('This is a debug message')\n",
        "logger.info('This is an info message')\n",
        "logger.warning('This is a warning message')\n",
        "logger.error('This is an error message')\n",
        "logger.critical('This is a critical message')\n"
      ],
      "metadata": {
        "colab": {
          "base_uri": "https://localhost:8080/"
        },
        "id": "AGrKzhaeDDsD",
        "outputId": "e07fd7d9-429a-426d-b2c9-41d6f2e1a21a"
      },
      "execution_count": null,
      "outputs": [
        {
          "output_type": "stream",
          "name": "stderr",
          "text": [
            "DEBUG:my_logger:This is a debug message\n",
            "INFO:my_logger:This is an info message\n",
            "WARNING:my_logger:This is a warning message\n",
            "ERROR:my_logger:This is an error message\n",
            "CRITICAL:my_logger:This is a critical message\n"
          ]
        }
      ]
    },
    {
      "cell_type": "markdown",
      "source": [
        "    18.Write a program that handles both IndexError and KeyError using a try-except block.\n",
        "\n",
        "    Here is a Python program that demonstrates handling both IndexError and KeyError using a try-except block:\n"
      ],
      "metadata": {
        "id": "aYa2KezoDRUx"
      }
    },
    {
      "cell_type": "code",
      "source": [
        "'d'])  # This will raise KeyError\n",
        "        def handle_errors():\n",
        "            my_list = [1, 2, 3]\n",
        "    my_dict = {'a': 1, 'b': 2, 'c': 3}\n",
        "\n",
        "    try:\n",
        "        # Attempting to access an invalid index in the list\n",
        "        print(my_list[5])  # This will raise IndexError\n",
        "\n",
        "        # Attempting to access a missing key in the dictionary\n",
        "        print(my_dict[\n",
        "    except IndexError as ie:\n",
        "        print(f\"IndexError: {ie}\")\n",
        "    except KeyError as ke:\n",
        "        print(f\"KeyError: {ke}\")\n",
        "\n",
        "# Call the function\n",
        "handle_errors()\n"
      ],
      "metadata": {
        "colab": {
          "base_uri": "https://localhost:8080/",
          "height": 106
        },
        "id": "rn1aOzIXDe8Y",
        "outputId": "ae405cf4-bbbe-4d3e-f3be-1208f8688990"
      },
      "execution_count": null,
      "outputs": [
        {
          "output_type": "error",
          "ename": "SyntaxError",
          "evalue": "unmatched ']' (<ipython-input-13-c421570d85f3>, line 1)",
          "traceback": [
            "\u001b[0;36m  File \u001b[0;32m\"<ipython-input-13-c421570d85f3>\"\u001b[0;36m, line \u001b[0;32m1\u001b[0m\n\u001b[0;31m    'd'])  # This will raise KeyError\u001b[0m\n\u001b[0m       ^\u001b[0m\n\u001b[0;31mSyntaxError\u001b[0m\u001b[0;31m:\u001b[0m unmatched ']'\n"
          ]
        }
      ]
    },
    {
      "cell_type": "markdown",
      "source": [
        "    19.How would you open a file and read its contents using a context manager in Python?\n",
        "\n",
        "    To open a file and read its contents using a context manager in Python, you can use the with statement. This ensures that the file is properly closed after reading, even if an error occurs while processing the file. Here's an example:"
      ],
      "metadata": {
        "id": "ox2MF0hxEnlX"
      }
    },
    {
      "cell_type": "markdown",
      "source": [],
      "metadata": {
        "id": "QVBz1QsiVwlw"
      }
    },
    {
      "cell_type": "code",
      "source": [
        "with open('example.txt', 'r') as file:\n",
        "    content = file.read()\n",
        "    print(content)\n"
      ],
      "metadata": {
        "colab": {
          "base_uri": "https://localhost:8080/"
        },
        "id": "9qFuE5bvE6Fe",
        "outputId": "45c9a3d1-4712-45f1-a09f-7a9d74367a1b"
      },
      "execution_count": null,
      "outputs": [
        {
          "output_type": "stream",
          "name": "stdout",
          "text": [
            "This is the new line of text.\n",
            "This is the new line of text.\n",
            "\n"
          ]
        }
      ]
    },
    {
      "cell_type": "markdown",
      "source": [
        "    20.Write a Python program that reads a file and prints the number of occurrences of a specific word.\n",
        "\n",
        "    Here's a simple Python program that reads a file and counts the occurrences of a specific word:"
      ],
      "metadata": {
        "id": "Cvv-0Y6cFlCw"
      }
    },
    {
      "cell_type": "code",
      "source": [
        "def count_word_occurrences(file_path, word_to_count):\n",
        "    try:\n",
        "        # Open the file in read mode\n",
        "        with open(file_path, 'r') as file:\n",
        "            # Read the content of the file\n",
        "            content = file.read()\n",
        "\n",
        "        # Convert the content to lowercase to make the search case-insensitive\n",
        "        content = content.lower()\n",
        "\n",
        "        # Count the occurrences of the specific word\n",
        "        word_count = content.split().count(word_to_count.lower())\n",
        "\n",
        "        print(f\"The word '{word_to_count}' occurs {word_count} times in the file.\")\n",
        "    except FileNotFoundError:\n",
        "        print(f\"The file '{file_path}' was not found.\")\n",
        "    except Exception as e:\n",
        "        print(f\"An error occurred: {e}\")\n",
        "\n",
        "# Example usage\n",
        "file_path = 'example.txt'  # Replace with the path to your file\n",
        "word_to_count = 'python'    # Replace with the word you want to count\n",
        "count_word_occurrences(file_path, word_to_count)\n"
      ],
      "metadata": {
        "colab": {
          "base_uri": "https://localhost:8080/"
        },
        "id": "ecYPHMTrF2oQ",
        "outputId": "36e523a7-f5f8-4285-caa8-1ec48e582959"
      },
      "execution_count": null,
      "outputs": [
        {
          "output_type": "stream",
          "name": "stdout",
          "text": [
            "The word 'python' occurs 0 times in the file.\n"
          ]
        }
      ]
    },
    {
      "cell_type": "markdown",
      "source": [
        "    21.How can you check if a file is empty before attempting to read its contents?\n",
        "\n",
        "    To check if a file is empty before attempting to read its contents, you can use a few different approaches in Python. Here's a common method using the os module or simply checking the file's size:\n",
        "\n",
        "    Method 1: Check file size using os.path.getsize()\n",
        "\n"
      ],
      "metadata": {
        "id": "HRvWIv8kF_tK"
      }
    },
    {
      "source": [
        "import os\n",
        "\n",
        "file_path = \"your_file.txt\"\n",
        "\n",
        "# Check if the file exists first\n",
        "if os.path.exists(file_path):\n",
        "    # Check if the file is empty by checking its size\n",
        "    if os.path.getsize(file_path) == 0:\n",
        "        print(\"The file is empty.\")\n",
        "    else:\n",
        "        with open(file_path, 'r') as file:\n",
        "            content = file.read()\n",
        "            print(content)\n",
        "else:\n",
        "    print(f\"The file '{file_path}' does not exist.\")"
      ],
      "cell_type": "code",
      "metadata": {
        "colab": {
          "base_uri": "https://localhost:8080/"
        },
        "id": "qtqyNqMzU7Od",
        "outputId": "c9cdf909-9480-4fae-9f05-d651752aeab6"
      },
      "execution_count": null,
      "outputs": [
        {
          "output_type": "stream",
          "name": "stdout",
          "text": [
            "The file 'your_file.txt' does not exist.\n"
          ]
        }
      ]
    },
    {
      "cell_type": "markdown",
      "source": [
        "    22.Write a Python program that writes to a log file when an error occurs during file handling.\n",
        "\n",
        "    Here's a Python program that handles file operations and logs errors to a log file if any occur during the process:"
      ],
      "metadata": {
        "id": "cr2YhgSXGdrz"
      }
    },
    {
      "cell_type": "code",
      "source": [
        "import logging\n",
        "\n",
        "# Configure logging\n",
        "logging.basicConfig(filename='file_operations.log', level=logging.ERROR,\n",
        "                    format='%(asctime)s - %(levelname)s - %(message)s')\n",
        "\n",
        "def write_to_file(filename, content):\n",
        "    try:\n",
        "        # Try to open the file in write mode and write content to it\n",
        "        with open(filename, 'w') as file:\n",
        "            file.write(content)\n",
        "        print(\"Content written successfully.\")\n",
        "    except Exception as e:\n",
        "        # If an error occurs, log the error\n",
        "        logging.error(f\"Error writing to file '{filename}': {e}\")\n",
        "        print(f\"An error occurred: {e}\")\n",
        "\n",
        "def read_from_file(filename):\n",
        "    try:\n",
        "        # Try to open the file in read mode and read content\n",
        "        with open(filename, 'r') as file:\n",
        "            content = file.read()\n",
        "        print(\"File read successfully.\")\n",
        "        return content\n",
        "    except Exception as e:\n",
        "        # If an error occurs, log the error\n",
        "        logging.error(f\"Error reading from file '{filename}': {e}\")\n",
        "        print(f\"An error occurred: {e}\")\n",
        "\n",
        "# Example usage\n",
        "write_to_file('example.txt', 'This is a test content.')\n",
        "read_from_file('example.txt')\n"
      ],
      "metadata": {
        "colab": {
          "base_uri": "https://localhost:8080/",
          "height": 70
        },
        "id": "qOMq5lvVGntX",
        "outputId": "5a6ffba1-4fba-48c6-fa3c-e4b16a544153"
      },
      "execution_count": null,
      "outputs": [
        {
          "output_type": "stream",
          "name": "stdout",
          "text": [
            "Content written successfully.\n",
            "File read successfully.\n"
          ]
        },
        {
          "output_type": "execute_result",
          "data": {
            "text/plain": [
              "'This is a test content.'"
            ],
            "application/vnd.google.colaboratory.intrinsic+json": {
              "type": "string"
            }
          },
          "metadata": {},
          "execution_count": 9
        }
      ]
    },
    {
      "cell_type": "markdown",
      "source": [
        "    23.How can you read a file line by line and store its content in a list in Python?\n",
        "\n",
        "    To read a file line by line and store its contents in a list in Python, you can use the following methods:\n",
        "\n",
        "    1.Using open() and readlines()\n",
        "    This method reads all lines and stores them directly in a list.\n",
        "\n",
        "\n"
      ],
      "metadata": {
        "id": "QfxzngV7Ri6K"
      }
    },
    {
      "cell_type": "code",
      "source": [
        "# Open the file and read all lines\n",
        "# Check if the file exists first\n",
        "import os\n",
        "\n",
        "file_path = 'filename.txt'  # Or your desired file path\n",
        "\n",
        "if os.path.exists(file_path):\n",
        "    with open(file_path, 'r') as file:\n",
        "        lines = file.readlines()  # Returns a list of lines\n",
        "\n",
        "    # Remove newline characters, if needed\n",
        "    lines = [line.strip() for line in lines]\n",
        "\n",
        "    print(lines)\n",
        "else:\n",
        "    print(f\"Error: The file '{file_path}' does not exist.\")"
      ],
      "metadata": {
        "colab": {
          "base_uri": "https://localhost:8080/"
        },
        "id": "8UuKIvqISwDY",
        "outputId": "b0d720c1-035e-4bd7-c19a-8572f49b41f6"
      },
      "execution_count": null,
      "outputs": [
        {
          "output_type": "stream",
          "name": "stdout",
          "text": [
            "Error: The file 'filename.txt' does not exist.\n"
          ]
        }
      ]
    },
    {
      "cell_type": "markdown",
      "source": [
        "    2.Using a Loop\n",
        "    This method processes each line one at a time and appends it to a list.\n",
        "\n",
        "\n"
      ],
      "metadata": {
        "id": "ZZZiGW3TSa5n"
      }
    },
    {
      "cell_type": "code",
      "source": [
        "lines = []\n",
        "\n",
        "try:\n",
        "    with open('filename.txt', 'r') as file:\n",
        "        for line in file:\n",
        "            lines.append(line.strip())  # Use .strip() to remove leading/trailing whitespace\n",
        "except FileNotFoundError:\n",
        "    print(\"Error: The file 'filename.txt' was not found in the current directory.\")\n",
        "    # You might want to handle this error differently,\n",
        "    # such as creating the file or asking the user for a different file path.\n",
        "\n",
        "print(lines)"
      ],
      "metadata": {
        "colab": {
          "base_uri": "https://localhost:8080/"
        },
        "id": "B21W6QCYTB4Q",
        "outputId": "08138ccd-d7f7-498c-a1f0-91912bdccbcf"
      },
      "execution_count": null,
      "outputs": [
        {
          "output_type": "stream",
          "name": "stdout",
          "text": [
            "Error: The file 'filename.txt' was not found in the current directory.\n",
            "[]\n"
          ]
        }
      ]
    },
    {
      "cell_type": "markdown",
      "source": [
        "    3.Using List Comprehension\n",
        "    This is a concise way to achieve the same result."
      ],
      "metadata": {
        "id": "xVxgzVXTUNkc"
      }
    },
    {
      "source": [
        "import os\n",
        "\n",
        "file_path = 'filename.txt'  # Or your desired file path\n",
        "\n",
        "if os.path.exists(file_path):\n",
        "    with open(file_path, 'r') as file:\n",
        "        lines = [line.strip() for line in file]\n",
        "\n",
        "    print(lines)\n",
        "else:\n",
        "    print(f\"Error: The file '{file_path}' does not exist.\")\n",
        "    # You might want to create the file or ask the user to enter the correct path.\n",
        "    # For example:\n",
        "    # open(file_path, 'w').close() # creates an empty file\n",
        "    # file_path = input(\"Enter the correct file path: \") # asks the user for the correct path"
      ],
      "cell_type": "code",
      "metadata": {
        "colab": {
          "base_uri": "https://localhost:8080/"
        },
        "id": "Axbk5i6NUeNc",
        "outputId": "7a3b034f-0322-4eb2-baf3-331dd3e9eb4e"
      },
      "execution_count": null,
      "outputs": [
        {
          "output_type": "stream",
          "name": "stdout",
          "text": [
            "Error: The file 'filename.txt' does not exist.\n"
          ]
        }
      ]
    }
  ]
}